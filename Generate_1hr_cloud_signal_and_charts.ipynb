{
  "nbformat": 4,
  "nbformat_minor": 0,
  "metadata": {
    "colab": {
      "provenance": [],
      "authorship_tag": "ABX9TyOmSPNwDV4NHK7YxWOxfjXb",
      "include_colab_link": true
    },
    "kernelspec": {
      "name": "python3",
      "display_name": "Python 3"
    },
    "language_info": {
      "name": "python"
    }
  },
  "cells": [
    {
      "cell_type": "markdown",
      "metadata": {
        "id": "view-in-github",
        "colab_type": "text"
      },
      "source": [
        "<a href=\"https://colab.research.google.com/github/harryguiacorn/colab/blob/main/Generate_1hr_cloud_signal_and_charts.ipynb\" target=\"_parent\"><img src=\"https://colab.research.google.com/assets/colab-badge.svg\" alt=\"Open In Colab\"/></a>"
      ]
    },
    {
      "cell_type": "code",
      "execution_count": 1,
      "metadata": {
        "id": "r8Fd--yUekdC",
        "colab": {
          "base_uri": "https://localhost:8080/"
        },
        "outputId": "eb575804-e8c0-4dde-82f8-ae9a4fbb6356"
      },
      "outputs": [
        {
          "output_type": "stream",
          "name": "stdout",
          "text": [
            "Requirement already satisfied: yfinance in /usr/local/lib/python3.10/dist-packages (0.2.31)\n",
            "Collecting ta\n",
            "  Downloading ta-0.11.0.tar.gz (25 kB)\n",
            "  Preparing metadata (setup.py) ... \u001b[?25l\u001b[?25hdone\n",
            "Requirement already satisfied: pandas in /usr/local/lib/python3.10/dist-packages (1.5.3)\n",
            "Requirement already satisfied: matplotlib in /usr/local/lib/python3.10/dist-packages (3.7.1)\n",
            "Collecting mpl_finance\n",
            "  Downloading mpl_finance-0.10.1-py3-none-any.whl (8.4 kB)\n",
            "Collecting mplfinance\n",
            "  Downloading mplfinance-0.12.10b0-py3-none-any.whl (75 kB)\n",
            "\u001b[2K     \u001b[90m━━━━━━━━━━━━━━━━━━━━━━━━━━━━━━━━━━━━━━━━\u001b[0m \u001b[32m75.0/75.0 kB\u001b[0m \u001b[31m3.0 MB/s\u001b[0m eta \u001b[36m0:00:00\u001b[0m\n",
            "\u001b[?25hRequirement already satisfied: numpy>=1.16.5 in /usr/local/lib/python3.10/dist-packages (from yfinance) (1.23.5)\n",
            "Requirement already satisfied: requests>=2.31 in /usr/local/lib/python3.10/dist-packages (from yfinance) (2.31.0)\n",
            "Requirement already satisfied: multitasking>=0.0.7 in /usr/local/lib/python3.10/dist-packages (from yfinance) (0.0.11)\n",
            "Requirement already satisfied: lxml>=4.9.1 in /usr/local/lib/python3.10/dist-packages (from yfinance) (4.9.3)\n",
            "Requirement already satisfied: appdirs>=1.4.4 in /usr/local/lib/python3.10/dist-packages (from yfinance) (1.4.4)\n",
            "Requirement already satisfied: pytz>=2022.5 in /usr/local/lib/python3.10/dist-packages (from yfinance) (2023.3.post1)\n",
            "Requirement already satisfied: frozendict>=2.3.4 in /usr/local/lib/python3.10/dist-packages (from yfinance) (2.3.8)\n",
            "Requirement already satisfied: peewee>=3.16.2 in /usr/local/lib/python3.10/dist-packages (from yfinance) (3.17.0)\n",
            "Requirement already satisfied: beautifulsoup4>=4.11.1 in /usr/local/lib/python3.10/dist-packages (from yfinance) (4.11.2)\n",
            "Requirement already satisfied: html5lib>=1.1 in /usr/local/lib/python3.10/dist-packages (from yfinance) (1.1)\n",
            "Requirement already satisfied: python-dateutil>=2.8.1 in /usr/local/lib/python3.10/dist-packages (from pandas) (2.8.2)\n",
            "Requirement already satisfied: contourpy>=1.0.1 in /usr/local/lib/python3.10/dist-packages (from matplotlib) (1.1.1)\n",
            "Requirement already satisfied: cycler>=0.10 in /usr/local/lib/python3.10/dist-packages (from matplotlib) (0.12.1)\n",
            "Requirement already satisfied: fonttools>=4.22.0 in /usr/local/lib/python3.10/dist-packages (from matplotlib) (4.43.1)\n",
            "Requirement already satisfied: kiwisolver>=1.0.1 in /usr/local/lib/python3.10/dist-packages (from matplotlib) (1.4.5)\n",
            "Requirement already satisfied: packaging>=20.0 in /usr/local/lib/python3.10/dist-packages (from matplotlib) (23.2)\n",
            "Requirement already satisfied: pillow>=6.2.0 in /usr/local/lib/python3.10/dist-packages (from matplotlib) (9.4.0)\n",
            "Requirement already satisfied: pyparsing>=2.3.1 in /usr/local/lib/python3.10/dist-packages (from matplotlib) (3.1.1)\n",
            "Requirement already satisfied: soupsieve>1.2 in /usr/local/lib/python3.10/dist-packages (from beautifulsoup4>=4.11.1->yfinance) (2.5)\n",
            "Requirement already satisfied: six>=1.9 in /usr/local/lib/python3.10/dist-packages (from html5lib>=1.1->yfinance) (1.16.0)\n",
            "Requirement already satisfied: webencodings in /usr/local/lib/python3.10/dist-packages (from html5lib>=1.1->yfinance) (0.5.1)\n",
            "Requirement already satisfied: charset-normalizer<4,>=2 in /usr/local/lib/python3.10/dist-packages (from requests>=2.31->yfinance) (3.3.1)\n",
            "Requirement already satisfied: idna<4,>=2.5 in /usr/local/lib/python3.10/dist-packages (from requests>=2.31->yfinance) (3.4)\n",
            "Requirement already satisfied: urllib3<3,>=1.21.1 in /usr/local/lib/python3.10/dist-packages (from requests>=2.31->yfinance) (2.0.7)\n",
            "Requirement already satisfied: certifi>=2017.4.17 in /usr/local/lib/python3.10/dist-packages (from requests>=2.31->yfinance) (2023.7.22)\n",
            "Building wheels for collected packages: ta\n",
            "  Building wheel for ta (setup.py) ... \u001b[?25l\u001b[?25hdone\n",
            "  Created wheel for ta: filename=ta-0.11.0-py3-none-any.whl size=29412 sha256=516e937d7641e50b601e5ca8857fed6152ef8eb4b596b00edfe0ddef10662729\n",
            "  Stored in directory: /root/.cache/pip/wheels/5f/67/4f/8a9f252836e053e532c6587a3230bc72a4deb16b03a829610b\n",
            "Successfully built ta\n",
            "Installing collected packages: ta, mplfinance, mpl_finance\n",
            "Successfully installed mpl_finance-0.10.1 mplfinance-0.12.10b0 ta-0.11.0\n"
          ]
        }
      ],
      "source": [
        "!pip install yfinance ta pandas matplotlib mpl_finance mplfinance"
      ]
    },
    {
      "cell_type": "markdown",
      "source": [
        "# Download 1h data and generator cloud signals"
      ],
      "metadata": {
        "id": "2Vgo9pu4I4hn"
      }
    },
    {
      "cell_type": "code",
      "source": [
        "import yfinance as yf\n",
        "import pandas as pd\n",
        "import numpy as np\n",
        "import mplfinance as mpf\n",
        "from ta.trend import IchimokuIndicator\n",
        "import os\n",
        "\n",
        "# Define the trading pair (USD/JPY) and specify the period and interval\n",
        "symbol = 'ES=F'\n",
        "period = '6mo'  # Last 6 months\n",
        "interval = '1h'\n",
        "\n",
        "\n",
        "def create_folder(folder_path):\n",
        "    if not os.path.exists(folder_path):\n",
        "        os.makedirs(folder_path)\n",
        "folder_path_csv = f\"output/csv/{symbol}/\"\n",
        "create_folder(folder_path_csv)\n",
        "\n",
        "# Fetch hourly data for the specified period\n",
        "data = yf.download(symbol, period=period, interval=interval)\n",
        "\n",
        "# Create an IchimokuIndicator instance\n",
        "ichimoku = IchimokuIndicator(data['High'], data['Low'])\n",
        "\n",
        "# Calculate Ichimoku values\n",
        "data['Ichimoku_A'] = ichimoku.ichimoku_a().shift(26)  # Shift back by 26 periods\n",
        "data['Ichimoku_B'] = ichimoku.ichimoku_b().shift(26)  # Shift back by 26 periods\n",
        "\n",
        "# Create the 'Cloud' column based on Ichimoku values\n",
        "data['Cloud'] = np.where((data['Close'] > data['Ichimoku_A']) & (data['Close'] > data['Ichimoku_B']), 1,\n",
        "                         np.where((data['Close'] < data['Ichimoku_A']) & (data['Close'] < data['Ichimoku_B']), -1, 0))\n",
        "\n",
        "# Export data to a CSV file\n",
        "csv_filename = f'{folder_path_csv}/{symbol}_hourly_cloud_data_6_months.csv'\n",
        "data.to_csv(csv_filename)\n",
        "print(f\"Hourly data for {symbol} over the last 6 months with Ichimoku cloud values exported to {csv_filename}\")\n",
        "\n",
        "# Filter the data for the specified time range (09:00 - 11:00)\n",
        "filtered_data = data.between_time('04:00', '15:00') # EST time\n",
        "\n",
        "folder_path_img = f\"output/img/{symbol}/\"\n",
        "create_folder(folder_path_img)\n",
        "\n",
        "# Create and save candlestick charts for each day in the specified time range\n",
        "for date, group in filtered_data.groupby(filtered_data.index.date):\n",
        "    # Extract the date and time\n",
        "    date_str = date.strftime('%Y-%m-%d')\n",
        "    time_str = group.index[0].strftime('%H-%M')\n",
        "\n",
        "    # Define the filename for the saved chart\n",
        "    chart_filename = f'{symbol}_{date_str}_{time_str}_candlestick_chart.png'\n",
        "\n",
        "    # Create the candlestick chart using mplfinance\n",
        "    chart_path = f\"{folder_path_img}{chart_filename}\"\n",
        "    mpf.plot(group, type='candle', savefig=chart_path, title=f'{symbol} {date} {interval} Candlestick Chart', style='yahoo')\n",
        "\n",
        "    print(f\"Candlestick chart for {symbol} on {date} saved as {chart_path}\")\n"
      ],
      "metadata": {
        "id": "SimFE5T8ffl9"
      },
      "execution_count": null,
      "outputs": []
    },
    {
      "cell_type": "code",
      "source": [
        "import yfinance as yf\n",
        "import pandas as pd\n",
        "import matplotlib.pyplot as plt\n",
        "from mpl_finance import candlestick_ohlc\n",
        "import matplotlib.dates as mdates\n",
        "\n",
        "# Define the stock symbol (AAPL for Apple Inc.)\n",
        "stock_symbol = \"JPY=X\"\n",
        "\n",
        "# Define the date range for the data\n",
        "start_date = \"2023-01-01\"\n",
        "end_date = \"2023-12-31\"\n",
        "\n",
        "# Download the data from Yahoo Finance\n",
        "data = yf.download(stock_symbol, start=start_date, end=end_date)\n",
        "\n",
        "# Create a figure and axis\n",
        "fig, ax = plt.subplots(figsize=(12, 6))\n",
        "\n",
        "# Resample the data to weekly OHLC\n",
        "ohlc_data = data['Adj Close'].resample('W').ohlc()\n",
        "ohlc_data.reset_index(inplace=True)\n",
        "ohlc_data['Date'] = ohlc_data['Date'].map(mdates.date2num)\n",
        "\n",
        "# Plot the Candlestick Chart\n",
        "candlestick_ohlc(ax, ohlc_data.values, width=0.5, colorup='g', colordown='r')\n",
        "\n",
        "# Add labels and title\n",
        "ax.set_xlabel('Date')\n",
        "ax.set_ylabel('Price')\n",
        "ax.set_title('AAPL Weekly Candlestick Chart')\n",
        "\n",
        "# Format the x-axis to show dates nicely\n",
        "ax.xaxis.set_major_formatter(mdates.DateFormatter(\"%Y-%m-%d\"))\n",
        "\n",
        "# Rotate x-axis labels for better readability\n",
        "plt.xticks(rotation=45)\n",
        "\n",
        "# Display the plot\n",
        "plt.grid()\n",
        "plt.tight_layout()\n",
        "plt.show()\n"
      ],
      "metadata": {
        "id": "w5mrXKvyBM4n"
      },
      "execution_count": null,
      "outputs": []
    }
  ]
}