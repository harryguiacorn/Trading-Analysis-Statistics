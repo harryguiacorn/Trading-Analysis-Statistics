{
  "nbformat": 4,
  "nbformat_minor": 0,
  "metadata": {
    "colab": {
      "provenance": [],
      "authorship_tag": "ABX9TyMp4IxbAsFyCkeV/kH87BOW",
      "include_colab_link": true
    },
    "kernelspec": {
      "name": "python3",
      "display_name": "Python 3"
    },
    "language_info": {
      "name": "python"
    }
  },
  "cells": [
    {
      "cell_type": "markdown",
      "metadata": {
        "id": "view-in-github",
        "colab_type": "text"
      },
      "source": [
        "<a href=\"https://colab.research.google.com/github/harryguiacorn/colab/blob/main/Generate_1hr_cloud_signal_and_charts.ipynb\" target=\"_parent\"><img src=\"https://colab.research.google.com/assets/colab-badge.svg\" alt=\"Open In Colab\"/></a>"
      ]
    },
    {
      "cell_type": "code",
      "execution_count": null,
      "metadata": {
        "id": "r8Fd--yUekdC"
      },
      "outputs": [],
      "source": [
        "!pip install yfinance ta pandas matplotlib mpl_finance mplfinance"
      ]
    },
    {
      "cell_type": "markdown",
      "source": [
        "# Download 1h data and generator cloud signals"
      ],
      "metadata": {
        "id": "2Vgo9pu4I4hn"
      }
    },
    {
      "cell_type": "code",
      "source": [
        "import os\n",
        "import yfinance as yf\n",
        "import pandas as pd\n",
        "import numpy as np\n",
        "import mplfinance as mpf\n",
        "from ta.trend import IchimokuIndicator\n",
        "\n",
        "class IchimokuAnalyzer:\n",
        "    def __init__(self, symbol, period, interval, output_folder):\n",
        "        self.symbol = symbol\n",
        "        self.period = period\n",
        "        self.interval = interval\n",
        "        self.output_folder = output_folder\n",
        "\n",
        "    def create_folder(self, folder_path):\n",
        "        if not os.path.exists(folder_path):\n",
        "            os.makedirs(folder_path)\n",
        "\n",
        "    def download_and_analyze_data(self):\n",
        "        # Create folders for CSV and image files\n",
        "        folder_path_csv = os.path.join(self.output_folder, 'csv', self.symbol)\n",
        "        folder_path_img = os.path.join(self.output_folder, 'img', self.symbol)\n",
        "\n",
        "        self.create_folder(folder_path_csv)\n",
        "        self.create_folder(folder_path_img)\n",
        "\n",
        "        # Fetch hourly data for the specified period\n",
        "        data = yf.download(self.symbol, period=self.period, interval=self.interval)\n",
        "\n",
        "        # Create an IchimokuIndicator instance\n",
        "        ichimoku = IchimokuIndicator(data['High'], data['Low'])\n",
        "\n",
        "        # Calculate Ichimoku values\n",
        "        data['Ichimoku_A'] = ichimoku.ichimoku_a().shift(26)\n",
        "        data['Ichimoku_B'] = ichimoku.ichimoku_b().shift(26)\n",
        "\n",
        "        # Create the 'Cloud' column based on Ichimoku values\n",
        "        data['Cloud'] = np.where(\n",
        "            (data['Close'] > data['Ichimoku_A']) & (data['Close'] > data['Ichimoku_B']), 1,\n",
        "            np.where((data['Close'] < data['Ichimoku_A']) & (data['Close'] < data['Ichimoku_B']), -1, 0)\n",
        "        )\n",
        "\n",
        "        # Export data to a CSV file\n",
        "        csv_filename = os.path.join(folder_path_csv, f'{self.symbol}_hourly_cloud_data_{self.period}.csv')\n",
        "        data.to_csv(csv_filename)\n",
        "        print(f\"Hourly data for {self.symbol} over the last {self.period} with Ichimoku cloud values exported to {csv_filename}\")\n",
        "\n",
        "        # Filter the data for the specified time range (09:00 - 11:00)\n",
        "        filtered_data = data.between_time('04:00', '15:00')  # EST time\n",
        "\n",
        "        # Create and save candlestick charts for each day in the specified time range\n",
        "        for date, group in filtered_data.groupby(filtered_data.index.date):\n",
        "            date_str = date.strftime('%Y-%m-%d')\n",
        "            time_str = group.index[0].strftime('%H-%M')\n",
        "            chart_filename = f'{self.symbol}_{date_str}_{time_str}_candlestick_chart.png'\n",
        "            chart_path = os.path.join(folder_path_img, chart_filename)\n",
        "            mpf.plot(group, type='candle', savefig=chart_path, title=f'{self.symbol} {date} {self.interval} Candlestick Chart', style='yahoo')\n",
        "            print(f\"Candlestick chart for {self.symbol} on {date} saved as {chart_path}\")\n",
        "\n",
        "if __name__ == \"__main__\":\n",
        "    symbol = 'ES=F'\n",
        "    period = '6mo'\n",
        "    interval = '1h'\n",
        "    output_folder = 'output'\n",
        "\n",
        "    analyzer = IchimokuAnalyzer(symbol, period, interval, output_folder)\n",
        "    analyzer.download_and_analyze_data()\n"
      ],
      "metadata": {
        "id": "FZlQZu9rSxrW"
      },
      "execution_count": null,
      "outputs": []
    },
    {
      "cell_type": "code",
      "source": [
        "import yfinance as yf\n",
        "import pandas as pd\n",
        "import matplotlib.pyplot as plt\n",
        "from mpl_finance import candlestick_ohlc\n",
        "import matplotlib.dates as mdates\n",
        "\n",
        "# Define the stock symbol (AAPL for Apple Inc.)\n",
        "stock_symbol = \"JPY=X\"\n",
        "\n",
        "# Define the date range for the data\n",
        "start_date = \"2023-01-01\"\n",
        "end_date = \"2023-12-31\"\n",
        "\n",
        "# Download the data from Yahoo Finance\n",
        "data = yf.download(stock_symbol, start=start_date, end=end_date)\n",
        "\n",
        "# Create a figure and axis\n",
        "fig, ax = plt.subplots(figsize=(12, 6))\n",
        "\n",
        "# Resample the data to weekly OHLC\n",
        "ohlc_data = data['Adj Close'].resample('W').ohlc()\n",
        "ohlc_data.reset_index(inplace=True)\n",
        "ohlc_data['Date'] = ohlc_data['Date'].map(mdates.date2num)\n",
        "\n",
        "# Plot the Candlestick Chart\n",
        "candlestick_ohlc(ax, ohlc_data.values, width=0.5, colorup='g', colordown='r')\n",
        "\n",
        "# Add labels and title\n",
        "ax.set_xlabel('Date')\n",
        "ax.set_ylabel('Price')\n",
        "ax.set_title('AAPL Weekly Candlestick Chart')\n",
        "\n",
        "# Format the x-axis to show dates nicely\n",
        "ax.xaxis.set_major_formatter(mdates.DateFormatter(\"%Y-%m-%d\"))\n",
        "\n",
        "# Rotate x-axis labels for better readability\n",
        "plt.xticks(rotation=45)\n",
        "\n",
        "# Display the plot\n",
        "plt.grid()\n",
        "plt.tight_layout()\n",
        "plt.show()\n"
      ],
      "metadata": {
        "id": "w5mrXKvyBM4n"
      },
      "execution_count": null,
      "outputs": []
    }
  ]
}