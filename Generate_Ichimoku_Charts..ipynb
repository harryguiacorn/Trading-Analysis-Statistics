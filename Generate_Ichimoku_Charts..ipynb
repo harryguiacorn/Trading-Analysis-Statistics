{
  "nbformat": 4,
  "nbformat_minor": 0,
  "metadata": {
    "colab": {
      "provenance": [],
      "collapsed_sections": [
        "BWQ0FZzgFvd0",
        "3x7PVY9YGBw8"
      ],
      "authorship_tag": "ABX9TyOr1rafEj6mn5xy/gp0cXjq",
      "include_colab_link": true
    },
    "kernelspec": {
      "name": "python3",
      "display_name": "Python 3"
    },
    "language_info": {
      "name": "python"
    }
  },
  "cells": [
    {
      "cell_type": "markdown",
      "metadata": {
        "id": "view-in-github",
        "colab_type": "text"
      },
      "source": [
        "<a href=\"https://colab.research.google.com/github/harryguiacorn/colab/blob/main/Ichimoku_chart_display.ipynb\" target=\"_parent\"><img src=\"https://colab.research.google.com/assets/colab-badge.svg\" alt=\"Open In Colab\"/></a>"
      ]
    },
    {
      "cell_type": "markdown",
      "source": [
        "# Step by step"
      ],
      "metadata": {
        "id": "BWQ0FZzgFvd0"
      }
    },
    {
      "cell_type": "code",
      "execution_count": null,
      "metadata": {
        "id": "exjcDf9vvEaN",
        "colab": {
          "base_uri": "https://localhost:8080/"
        },
        "outputId": "e409db7a-408e-4dc0-c9a2-d7765c6589e0"
      },
      "outputs": [
        {
          "output_type": "stream",
          "name": "stdout",
          "text": [
            "Requirement already satisfied: yfinance in /usr/local/lib/python3.10/dist-packages (0.2.31)\n",
            "Requirement already satisfied: pandas in /usr/local/lib/python3.10/dist-packages (2.1.2)\n",
            "Requirement already satisfied: plotly in /usr/local/lib/python3.10/dist-packages (5.18.0)\n",
            "Requirement already satisfied: numpy>=1.16.5 in /usr/local/lib/python3.10/dist-packages (from yfinance) (1.23.5)\n",
            "Requirement already satisfied: requests>=2.31 in /usr/local/lib/python3.10/dist-packages (from yfinance) (2.31.0)\n",
            "Requirement already satisfied: multitasking>=0.0.7 in /usr/local/lib/python3.10/dist-packages (from yfinance) (0.0.11)\n",
            "Requirement already satisfied: lxml>=4.9.1 in /usr/local/lib/python3.10/dist-packages (from yfinance) (4.9.3)\n",
            "Requirement already satisfied: appdirs>=1.4.4 in /usr/local/lib/python3.10/dist-packages (from yfinance) (1.4.4)\n",
            "Requirement already satisfied: pytz>=2022.5 in /usr/local/lib/python3.10/dist-packages (from yfinance) (2023.3.post1)\n",
            "Requirement already satisfied: frozendict>=2.3.4 in /usr/local/lib/python3.10/dist-packages (from yfinance) (2.3.8)\n",
            "Requirement already satisfied: peewee>=3.16.2 in /usr/local/lib/python3.10/dist-packages (from yfinance) (3.17.0)\n",
            "Requirement already satisfied: beautifulsoup4>=4.11.1 in /usr/local/lib/python3.10/dist-packages (from yfinance) (4.11.2)\n",
            "Requirement already satisfied: html5lib>=1.1 in /usr/local/lib/python3.10/dist-packages (from yfinance) (1.1)\n",
            "Requirement already satisfied: python-dateutil>=2.8.2 in /usr/local/lib/python3.10/dist-packages (from pandas) (2.8.2)\n",
            "Requirement already satisfied: tzdata>=2022.1 in /usr/local/lib/python3.10/dist-packages (from pandas) (2023.3)\n",
            "Requirement already satisfied: tenacity>=6.2.0 in /usr/local/lib/python3.10/dist-packages (from plotly) (8.2.3)\n",
            "Requirement already satisfied: packaging in /usr/local/lib/python3.10/dist-packages (from plotly) (23.2)\n",
            "Requirement already satisfied: soupsieve>1.2 in /usr/local/lib/python3.10/dist-packages (from beautifulsoup4>=4.11.1->yfinance) (2.5)\n",
            "Requirement already satisfied: six>=1.9 in /usr/local/lib/python3.10/dist-packages (from html5lib>=1.1->yfinance) (1.16.0)\n",
            "Requirement already satisfied: webencodings in /usr/local/lib/python3.10/dist-packages (from html5lib>=1.1->yfinance) (0.5.1)\n",
            "Requirement already satisfied: charset-normalizer<4,>=2 in /usr/local/lib/python3.10/dist-packages (from requests>=2.31->yfinance) (3.3.1)\n",
            "Requirement already satisfied: idna<4,>=2.5 in /usr/local/lib/python3.10/dist-packages (from requests>=2.31->yfinance) (3.4)\n",
            "Requirement already satisfied: urllib3<3,>=1.21.1 in /usr/local/lib/python3.10/dist-packages (from requests>=2.31->yfinance) (2.0.7)\n",
            "Requirement already satisfied: certifi>=2017.4.17 in /usr/local/lib/python3.10/dist-packages (from requests>=2.31->yfinance) (2023.7.22)\n"
          ]
        }
      ],
      "source": [
        "!pip install yfinance pandas plotly"
      ]
    },
    {
      "cell_type": "markdown",
      "source": [
        "## Download raw data and load into a data frame\n",
        "\n"
      ],
      "metadata": {
        "id": "3x7PVY9YGBw8"
      }
    },
    {
      "cell_type": "code",
      "source": [
        "import yfinance as yf\n",
        "import pandas as pd\n",
        "import datetime\n",
        "\n",
        "# Define the ticker symbol (SPY) and end date\n",
        "ticker_symbol = \"SPY\"\n",
        "look_back_month = 8\n",
        "end_date = datetime.date.today()\n",
        "start_date = end_date - datetime.timedelta(days=look_back_month*30)  # x months of data\n",
        "\n",
        "# Download historical data using yfinance\n",
        "data = yf.download(ticker_symbol, start=start_date, end=end_date)\n",
        "\n",
        "# Format the dates as strings\n",
        "start_date_str = start_date.strftime(\"%Y-%m-%d\")\n",
        "end_date_str = end_date.strftime(\"%Y-%m-%d\")\n",
        "\n",
        "# Save the data to a CSV file with dates in the filename\n",
        "csv_filename = f\"{ticker_symbol}_{start_date_str}-{end_date_str}_daily_data\"\n",
        "csv_filename_full = f\"{csv_filename}.csv\"\n",
        "\n",
        "print(f\"Data for {ticker_symbol} saved to {csv_filename_full}\")\n",
        "data.to_csv(csv_filename_full)"
      ],
      "metadata": {
        "id": "deQriAhavFcu",
        "colab": {
          "base_uri": "https://localhost:8080/"
        },
        "outputId": "0d014e6f-b2a5-4a70-e9ed-efd3fdfcf7a5"
      },
      "execution_count": null,
      "outputs": [
        {
          "output_type": "stream",
          "name": "stdout",
          "text": [
            "\r[*********************100%%**********************]  1 of 1 completed\n",
            "Data for SPY saved to SPY_2023-03-06-2023-11-01_daily_data.csv\n"
          ]
        }
      ]
    },
    {
      "cell_type": "code",
      "source": [
        "\n",
        "# Load the CSV data\n",
        "data = pd.read_csv(csv_filename_full)\n",
        "data['Date'] = pd.to_datetime(data['Date'])\n",
        "data.set_index('Date', inplace=True)\n"
      ],
      "metadata": {
        "id": "rqcBkwsYHI4y"
      },
      "execution_count": null,
      "outputs": []
    },
    {
      "cell_type": "markdown",
      "source": [
        "## Use Tapy to generate Ichimoku data"
      ],
      "metadata": {
        "id": "lGLoGCYBGKr2"
      }
    },
    {
      "cell_type": "code",
      "source": [
        "!pip install tapy\n",
        "import pandas as pd\n",
        "from tapy import Indicators\n",
        "from datetime import datetime\n",
        "\n",
        "# Apply Ichimoku analysis\n",
        "# ichimoku = ta.Ichimoku()\n",
        "# data = ichimoku(data)\n",
        "\n",
        "__df_ichimoku = Indicators(data)\n",
        "__df_ichimoku.ichimoku_kinko_hyo()  # column_name_kijun_sen=\"K Line\"\n",
        "\n",
        "# Save the data with Ichimoku analysis to a new CSV file\n",
        "output_csv_filename = f\"{csv_filename}_ichimoku_tapy\"\n",
        "output_csv_filename_full = f\"{output_csv_filename}.csv\"\n",
        "data_ichimoku_tapy = __df_ichimoku.df\n",
        "data_ichimoku_tapy.to_csv(output_csv_filename_full)\n",
        "# print(data_ichimoku_tapy.head)\n",
        "print(f\"Ichimoku analysis for SPY data saved to {output_csv_filename_full}\")\n"
      ],
      "metadata": {
        "id": "m5u2r_bg4IgE",
        "colab": {
          "base_uri": "https://localhost:8080/"
        },
        "outputId": "26260e89-c5fc-481e-e013-fa42910883a2"
      },
      "execution_count": null,
      "outputs": [
        {
          "output_type": "stream",
          "name": "stdout",
          "text": [
            "Requirement already satisfied: tapy in /usr/local/lib/python3.10/dist-packages (1.9.1)\n",
            "Requirement already satisfied: pandas>=0.25.1 in /usr/local/lib/python3.10/dist-packages (from tapy) (2.1.2)\n",
            "Requirement already satisfied: numpy<2,>=1.22.4 in /usr/local/lib/python3.10/dist-packages (from pandas>=0.25.1->tapy) (1.23.5)\n",
            "Requirement already satisfied: python-dateutil>=2.8.2 in /usr/local/lib/python3.10/dist-packages (from pandas>=0.25.1->tapy) (2.8.2)\n",
            "Requirement already satisfied: pytz>=2020.1 in /usr/local/lib/python3.10/dist-packages (from pandas>=0.25.1->tapy) (2023.3.post1)\n",
            "Requirement already satisfied: tzdata>=2022.1 in /usr/local/lib/python3.10/dist-packages (from pandas>=0.25.1->tapy) (2023.3)\n",
            "Requirement already satisfied: six>=1.5 in /usr/local/lib/python3.10/dist-packages (from python-dateutil>=2.8.2->pandas>=0.25.1->tapy) (1.16.0)\n",
            "Ichimoku analysis for SPY data saved to SPY_2023-03-06-2023-11-01_daily_data_ichimoku_tapy.csv\n"
          ]
        }
      ]
    },
    {
      "cell_type": "markdown",
      "source": [
        "## Use Finta to generate Ichimoku data"
      ],
      "metadata": {
        "id": "77Y6pp4PGSaS"
      }
    },
    {
      "cell_type": "code",
      "source": [
        "!pip install finta\n",
        "\n",
        "from finta import TA\n",
        "\n",
        "# Finta works but doesn't produce future senkou a or b.\n",
        "# df = pd.read_csv(csv_filename_full)\n",
        "output_csv_filename = f\"{csv_filename}_ichimoku_finta\"\n",
        "output_csv_filename_full = f\"{output_csv_filename}.csv\"\n",
        "data_ichimoku_finta = TA.ICHIMOKU(data).to_csv(output_csv_filename_full)"
      ],
      "metadata": {
        "id": "HikNm72ZBsLb",
        "colab": {
          "base_uri": "https://localhost:8080/"
        },
        "outputId": "f3b5fa8b-f3e9-4de1-bd53-ba6e56b3518b"
      },
      "execution_count": null,
      "outputs": [
        {
          "output_type": "stream",
          "name": "stdout",
          "text": [
            "Collecting finta\n",
            "  Downloading finta-1.3-py3-none-any.whl (29 kB)\n",
            "Requirement already satisfied: numpy in /usr/local/lib/python3.10/dist-packages (from finta) (1.23.5)\n",
            "Requirement already satisfied: pandas in /usr/local/lib/python3.10/dist-packages (from finta) (2.1.2)\n",
            "Requirement already satisfied: python-dateutil>=2.8.2 in /usr/local/lib/python3.10/dist-packages (from pandas->finta) (2.8.2)\n",
            "Requirement already satisfied: pytz>=2020.1 in /usr/local/lib/python3.10/dist-packages (from pandas->finta) (2023.3.post1)\n",
            "Requirement already satisfied: tzdata>=2022.1 in /usr/local/lib/python3.10/dist-packages (from pandas->finta) (2023.3)\n",
            "Requirement already satisfied: six>=1.5 in /usr/local/lib/python3.10/dist-packages (from python-dateutil>=2.8.2->pandas->finta) (1.16.0)\n",
            "Installing collected packages: finta\n",
            "Successfully installed finta-1.3\n"
          ]
        }
      ]
    },
    {
      "cell_type": "markdown",
      "source": [
        "## Plot on a chart"
      ],
      "metadata": {
        "id": "r4tPMAteGonV"
      }
    },
    {
      "cell_type": "markdown",
      "source": [
        "## Line Chart"
      ],
      "metadata": {
        "id": "WMBHgsduGrsv"
      }
    },
    {
      "cell_type": "code",
      "source": [
        "import plotly.express as px\n",
        "\n",
        "# Create an interactive chart\n",
        "fig = px.line(data_ichimoku_tapy, x=data.index, y='Close', title='SPY Daily Closing Prices')\n",
        "fig.update_xaxes(title_text='Date')\n",
        "fig.update_yaxes(title_text='Close Price')\n",
        "fig.show()"
      ],
      "metadata": {
        "id": "6CefUvHtOeB0",
        "colab": {
          "base_uri": "https://localhost:8080/"
        },
        "outputId": "7e4e7ecb-1954-4ee6-b6c9-47ecb0fdacac"
      },
      "execution_count": null,
      "outputs": [
        {
          "output_type": "display_data",
          "data": {
            "text/html": [
              "<html>\n",
              "<head><meta charset=\"utf-8\" /></head>\n",
              "<body>\n",
              "    <div>            <script src=\"https://cdnjs.cloudflare.com/ajax/libs/mathjax/2.7.5/MathJax.js?config=TeX-AMS-MML_SVG\"></script><script type=\"text/javascript\">if (window.MathJax && window.MathJax.Hub && window.MathJax.Hub.Config) {window.MathJax.Hub.Config({SVG: {font: \"STIX-Web\"}});}</script>                <script type=\"text/javascript\">window.PlotlyConfig = {MathJaxConfig: 'local'};</script>\n",
              "        <script charset=\"utf-8\" src=\"https://cdn.plot.ly/plotly-2.27.0.min.js\"></script>                <div id=\"56c5e5fe-1c4a-4c0b-87cc-d21888215a0e\" class=\"plotly-graph-div\" style=\"height:525px; width:100%;\"></div>            <script type=\"text/javascript\">                                    window.PLOTLYENV=window.PLOTLYENV || {};                                    if (document.getElementById(\"56c5e5fe-1c4a-4c0b-87cc-d21888215a0e\")) {                    Plotly.newPlot(                        \"56c5e5fe-1c4a-4c0b-87cc-d21888215a0e\",                        [{\"hovertemplate\":\"x=%{x}\\u003cbr\\u003eClose=%{y}\\u003cextra\\u003e\\u003c\\u002fextra\\u003e\",\"legendgroup\":\"\",\"line\":{\"color\":\"#636efa\",\"dash\":\"solid\"},\"marker\":{\"symbol\":\"circle\"},\"mode\":\"lines\",\"name\":\"\",\"orientation\":\"v\",\"showlegend\":false,\"x\":[\"2023-03-06T00:00:00\",\"2023-03-07T00:00:00\",\"2023-03-08T00:00:00\",\"2023-03-09T00:00:00\",\"2023-03-10T00:00:00\",\"2023-03-13T00:00:00\",\"2023-03-14T00:00:00\",\"2023-03-15T00:00:00\",\"2023-03-16T00:00:00\",\"2023-03-17T00:00:00\",\"2023-03-20T00:00:00\",\"2023-03-21T00:00:00\",\"2023-03-22T00:00:00\",\"2023-03-23T00:00:00\",\"2023-03-24T00:00:00\",\"2023-03-27T00:00:00\",\"2023-03-28T00:00:00\",\"2023-03-29T00:00:00\",\"2023-03-30T00:00:00\",\"2023-03-31T00:00:00\",\"2023-04-03T00:00:00\",\"2023-04-04T00:00:00\",\"2023-04-05T00:00:00\",\"2023-04-06T00:00:00\",\"2023-04-10T00:00:00\",\"2023-04-11T00:00:00\",\"2023-04-12T00:00:00\",\"2023-04-13T00:00:00\",\"2023-04-14T00:00:00\",\"2023-04-17T00:00:00\",\"2023-04-18T00:00:00\",\"2023-04-19T00:00:00\",\"2023-04-20T00:00:00\",\"2023-04-21T00:00:00\",\"2023-04-24T00:00:00\",\"2023-04-25T00:00:00\",\"2023-04-26T00:00:00\",\"2023-04-27T00:00:00\",\"2023-04-28T00:00:00\",\"2023-05-01T00:00:00\",\"2023-05-02T00:00:00\",\"2023-05-03T00:00:00\",\"2023-05-04T00:00:00\",\"2023-05-05T00:00:00\",\"2023-05-08T00:00:00\",\"2023-05-09T00:00:00\",\"2023-05-10T00:00:00\",\"2023-05-11T00:00:00\",\"2023-05-12T00:00:00\",\"2023-05-15T00:00:00\",\"2023-05-16T00:00:00\",\"2023-05-17T00:00:00\",\"2023-05-18T00:00:00\",\"2023-05-19T00:00:00\",\"2023-05-22T00:00:00\",\"2023-05-23T00:00:00\",\"2023-05-24T00:00:00\",\"2023-05-25T00:00:00\",\"2023-05-26T00:00:00\",\"2023-05-30T00:00:00\",\"2023-05-31T00:00:00\",\"2023-06-01T00:00:00\",\"2023-06-02T00:00:00\",\"2023-06-05T00:00:00\",\"2023-06-06T00:00:00\",\"2023-06-07T00:00:00\",\"2023-06-08T00:00:00\",\"2023-06-09T00:00:00\",\"2023-06-12T00:00:00\",\"2023-06-13T00:00:00\",\"2023-06-14T00:00:00\",\"2023-06-15T00:00:00\",\"2023-06-16T00:00:00\",\"2023-06-20T00:00:00\",\"2023-06-21T00:00:00\",\"2023-06-22T00:00:00\",\"2023-06-23T00:00:00\",\"2023-06-26T00:00:00\",\"2023-06-27T00:00:00\",\"2023-06-28T00:00:00\",\"2023-06-29T00:00:00\",\"2023-06-30T00:00:00\",\"2023-07-03T00:00:00\",\"2023-07-05T00:00:00\",\"2023-07-06T00:00:00\",\"2023-07-07T00:00:00\",\"2023-07-10T00:00:00\",\"2023-07-11T00:00:00\",\"2023-07-12T00:00:00\",\"2023-07-13T00:00:00\",\"2023-07-14T00:00:00\",\"2023-07-17T00:00:00\",\"2023-07-18T00:00:00\",\"2023-07-19T00:00:00\",\"2023-07-20T00:00:00\",\"2023-07-21T00:00:00\",\"2023-07-24T00:00:00\",\"2023-07-25T00:00:00\",\"2023-07-26T00:00:00\",\"2023-07-27T00:00:00\",\"2023-07-28T00:00:00\",\"2023-07-31T00:00:00\",\"2023-08-01T00:00:00\",\"2023-08-02T00:00:00\",\"2023-08-03T00:00:00\",\"2023-08-04T00:00:00\",\"2023-08-07T00:00:00\",\"2023-08-08T00:00:00\",\"2023-08-09T00:00:00\",\"2023-08-10T00:00:00\",\"2023-08-11T00:00:00\",\"2023-08-14T00:00:00\",\"2023-08-15T00:00:00\",\"2023-08-16T00:00:00\",\"2023-08-17T00:00:00\",\"2023-08-18T00:00:00\",\"2023-08-21T00:00:00\",\"2023-08-22T00:00:00\",\"2023-08-23T00:00:00\",\"2023-08-24T00:00:00\",\"2023-08-25T00:00:00\",\"2023-08-28T00:00:00\",\"2023-08-29T00:00:00\",\"2023-08-30T00:00:00\",\"2023-08-31T00:00:00\",\"2023-09-01T00:00:00\",\"2023-09-05T00:00:00\",\"2023-09-06T00:00:00\",\"2023-09-07T00:00:00\",\"2023-09-08T00:00:00\",\"2023-09-11T00:00:00\",\"2023-09-12T00:00:00\",\"2023-09-13T00:00:00\",\"2023-09-14T00:00:00\",\"2023-09-15T00:00:00\",\"2023-09-18T00:00:00\",\"2023-09-19T00:00:00\",\"2023-09-20T00:00:00\",\"2023-09-21T00:00:00\",\"2023-09-22T00:00:00\",\"2023-09-25T00:00:00\",\"2023-09-26T00:00:00\",\"2023-09-27T00:00:00\",\"2023-09-28T00:00:00\",\"2023-09-29T00:00:00\",\"2023-10-02T00:00:00\",\"2023-10-03T00:00:00\",\"2023-10-04T00:00:00\",\"2023-10-05T00:00:00\",\"2023-10-06T00:00:00\",\"2023-10-09T00:00:00\",\"2023-10-10T00:00:00\",\"2023-10-11T00:00:00\",\"2023-10-12T00:00:00\",\"2023-10-13T00:00:00\",\"2023-10-16T00:00:00\",\"2023-10-17T00:00:00\",\"2023-10-18T00:00:00\",\"2023-10-19T00:00:00\",\"2023-10-20T00:00:00\",\"2023-10-23T00:00:00\",\"2023-10-24T00:00:00\",\"2023-10-25T00:00:00\",\"2023-10-26T00:00:00\",\"2023-10-27T00:00:00\",\"2023-10-30T00:00:00\",\"2023-10-31T00:00:00\"],\"xaxis\":\"x\",\"y\":[404.4700012207031,398.2699890136719,398.9200134277344,391.55999755859375,385.9100036621094,385.3599853515625,391.7300109863281,389.2799987792969,396.1099853515625,389.989990234375,393.739990234375,398.9100036621094,392.1099853515625,393.1700134277344,395.75,396.489990234375,395.6000061035156,401.3500061035156,403.7000122070313,409.3900146484375,410.9500122070313,408.6700134277344,407.6000061035156,409.1900024414063,409.6099853515625,409.7200012207031,408.0499877929688,413.4700012207031,412.4599914550781,413.9400024414063,414.2099914550781,414.1400146484375,411.8800048828125,412.2000122070313,412.6300048828125,406.0799865722656,404.3599853515625,412.4100036621094,415.9299926757813,415.510009765625,410.8399963378906,408.0199890136719,405.1300048828125,412.6300048828125,412.739990234375,410.9299926757813,412.8500061035156,412.1300048828125,411.5899963378906,413.010009765625,410.25,415.2300109863281,419.2300109863281,418.6199951171875,418.7900085449219,414.0899963378906,411.0899963378906,414.6499938964844,420.0199890136719,420.1799926757813,417.8500061035156,421.8200073242188,427.9200134277344,427.1000061035156,428.0299987792969,426.5499877929688,429.1300048828125,429.8999938964844,433.7999877929688,436.6600036621094,437.1799926757813,442.6000061035156,439.4599914550781,437.1799926757813,434.9400024414063,436.510009765625,433.2099914550781,431.4400024414063,436.1700134277344,436.3900146484375,438.1099853515625,443.2799987792969,443.7900085449219,443.1300048828125,439.6600036621094,438.5499877929688,439.6600036621094,442.4599914550781,446.0199890136719,449.55999755859375,449.2799987792969,450.8399963378906,454.1900024414063,455.2000122070313,452.1799926757813,452.1799926757813,454.2000122070313,455.4400024414063,455.510009765625,452.489990234375,456.9200134277344,457.7900085449219,456.4800109863281,450.1300048828125,448.8399963378906,446.80999755859375,450.7099914550781,448.75,445.75,445.9100036621094,445.6499938964844,448.1099853515625,442.8900146484375,439.6400146484375,436.2900085449219,436.5,439.3399963378906,438.1499938964844,443.0299987792969,436.8900146484375,439.9700012207031,442.760009765625,449.1600036621094,451.010009765625,450.3500061035156,451.1900024414063,449.239990234375,446.2200012207031,444.8500061035156,445.5199890136719,448.4500122070313,445.989990234375,446.510009765625,450.3599853515625,443.3699951171875,443.6300048828125,442.7099914550781,438.6400146484375,431.3900146484375,430.4200134277344,432.2300109863281,425.8800048828125,426.0499877929688,428.5199890136719,427.4800109863281,427.30999755859375,421.5899963378906,424.6600036621094,424.5,429.5400085449219,432.2900085449219,434.5400085449219,436.3200073242188,433.6600036621094,431.5,436.0400085449219,436.0199890136719,430.2099914550781,426.4299926757813,421.1900024414063,420.4599914550781,423.6300048828125,417.5499877929688,412.5499877929688,410.6799926757813,415.5899963378906,418.2000122070313],\"yaxis\":\"y\",\"type\":\"scatter\"}],                        {\"template\":{\"data\":{\"histogram2dcontour\":[{\"type\":\"histogram2dcontour\",\"colorbar\":{\"outlinewidth\":0,\"ticks\":\"\"},\"colorscale\":[[0.0,\"#0d0887\"],[0.1111111111111111,\"#46039f\"],[0.2222222222222222,\"#7201a8\"],[0.3333333333333333,\"#9c179e\"],[0.4444444444444444,\"#bd3786\"],[0.5555555555555556,\"#d8576b\"],[0.6666666666666666,\"#ed7953\"],[0.7777777777777778,\"#fb9f3a\"],[0.8888888888888888,\"#fdca26\"],[1.0,\"#f0f921\"]]}],\"choropleth\":[{\"type\":\"choropleth\",\"colorbar\":{\"outlinewidth\":0,\"ticks\":\"\"}}],\"histogram2d\":[{\"type\":\"histogram2d\",\"colorbar\":{\"outlinewidth\":0,\"ticks\":\"\"},\"colorscale\":[[0.0,\"#0d0887\"],[0.1111111111111111,\"#46039f\"],[0.2222222222222222,\"#7201a8\"],[0.3333333333333333,\"#9c179e\"],[0.4444444444444444,\"#bd3786\"],[0.5555555555555556,\"#d8576b\"],[0.6666666666666666,\"#ed7953\"],[0.7777777777777778,\"#fb9f3a\"],[0.8888888888888888,\"#fdca26\"],[1.0,\"#f0f921\"]]}],\"heatmap\":[{\"type\":\"heatmap\",\"colorbar\":{\"outlinewidth\":0,\"ticks\":\"\"},\"colorscale\":[[0.0,\"#0d0887\"],[0.1111111111111111,\"#46039f\"],[0.2222222222222222,\"#7201a8\"],[0.3333333333333333,\"#9c179e\"],[0.4444444444444444,\"#bd3786\"],[0.5555555555555556,\"#d8576b\"],[0.6666666666666666,\"#ed7953\"],[0.7777777777777778,\"#fb9f3a\"],[0.8888888888888888,\"#fdca26\"],[1.0,\"#f0f921\"]]}],\"heatmapgl\":[{\"type\":\"heatmapgl\",\"colorbar\":{\"outlinewidth\":0,\"ticks\":\"\"},\"colorscale\":[[0.0,\"#0d0887\"],[0.1111111111111111,\"#46039f\"],[0.2222222222222222,\"#7201a8\"],[0.3333333333333333,\"#9c179e\"],[0.4444444444444444,\"#bd3786\"],[0.5555555555555556,\"#d8576b\"],[0.6666666666666666,\"#ed7953\"],[0.7777777777777778,\"#fb9f3a\"],[0.8888888888888888,\"#fdca26\"],[1.0,\"#f0f921\"]]}],\"contourcarpet\":[{\"type\":\"contourcarpet\",\"colorbar\":{\"outlinewidth\":0,\"ticks\":\"\"}}],\"contour\":[{\"type\":\"contour\",\"colorbar\":{\"outlinewidth\":0,\"ticks\":\"\"},\"colorscale\":[[0.0,\"#0d0887\"],[0.1111111111111111,\"#46039f\"],[0.2222222222222222,\"#7201a8\"],[0.3333333333333333,\"#9c179e\"],[0.4444444444444444,\"#bd3786\"],[0.5555555555555556,\"#d8576b\"],[0.6666666666666666,\"#ed7953\"],[0.7777777777777778,\"#fb9f3a\"],[0.8888888888888888,\"#fdca26\"],[1.0,\"#f0f921\"]]}],\"surface\":[{\"type\":\"surface\",\"colorbar\":{\"outlinewidth\":0,\"ticks\":\"\"},\"colorscale\":[[0.0,\"#0d0887\"],[0.1111111111111111,\"#46039f\"],[0.2222222222222222,\"#7201a8\"],[0.3333333333333333,\"#9c179e\"],[0.4444444444444444,\"#bd3786\"],[0.5555555555555556,\"#d8576b\"],[0.6666666666666666,\"#ed7953\"],[0.7777777777777778,\"#fb9f3a\"],[0.8888888888888888,\"#fdca26\"],[1.0,\"#f0f921\"]]}],\"mesh3d\":[{\"type\":\"mesh3d\",\"colorbar\":{\"outlinewidth\":0,\"ticks\":\"\"}}],\"scatter\":[{\"fillpattern\":{\"fillmode\":\"overlay\",\"size\":10,\"solidity\":0.2},\"type\":\"scatter\"}],\"parcoords\":[{\"type\":\"parcoords\",\"line\":{\"colorbar\":{\"outlinewidth\":0,\"ticks\":\"\"}}}],\"scatterpolargl\":[{\"type\":\"scatterpolargl\",\"marker\":{\"colorbar\":{\"outlinewidth\":0,\"ticks\":\"\"}}}],\"bar\":[{\"error_x\":{\"color\":\"#2a3f5f\"},\"error_y\":{\"color\":\"#2a3f5f\"},\"marker\":{\"line\":{\"color\":\"#E5ECF6\",\"width\":0.5},\"pattern\":{\"fillmode\":\"overlay\",\"size\":10,\"solidity\":0.2}},\"type\":\"bar\"}],\"scattergeo\":[{\"type\":\"scattergeo\",\"marker\":{\"colorbar\":{\"outlinewidth\":0,\"ticks\":\"\"}}}],\"scatterpolar\":[{\"type\":\"scatterpolar\",\"marker\":{\"colorbar\":{\"outlinewidth\":0,\"ticks\":\"\"}}}],\"histogram\":[{\"marker\":{\"pattern\":{\"fillmode\":\"overlay\",\"size\":10,\"solidity\":0.2}},\"type\":\"histogram\"}],\"scattergl\":[{\"type\":\"scattergl\",\"marker\":{\"colorbar\":{\"outlinewidth\":0,\"ticks\":\"\"}}}],\"scatter3d\":[{\"type\":\"scatter3d\",\"line\":{\"colorbar\":{\"outlinewidth\":0,\"ticks\":\"\"}},\"marker\":{\"colorbar\":{\"outlinewidth\":0,\"ticks\":\"\"}}}],\"scattermapbox\":[{\"type\":\"scattermapbox\",\"marker\":{\"colorbar\":{\"outlinewidth\":0,\"ticks\":\"\"}}}],\"scatterternary\":[{\"type\":\"scatterternary\",\"marker\":{\"colorbar\":{\"outlinewidth\":0,\"ticks\":\"\"}}}],\"scattercarpet\":[{\"type\":\"scattercarpet\",\"marker\":{\"colorbar\":{\"outlinewidth\":0,\"ticks\":\"\"}}}],\"carpet\":[{\"aaxis\":{\"endlinecolor\":\"#2a3f5f\",\"gridcolor\":\"white\",\"linecolor\":\"white\",\"minorgridcolor\":\"white\",\"startlinecolor\":\"#2a3f5f\"},\"baxis\":{\"endlinecolor\":\"#2a3f5f\",\"gridcolor\":\"white\",\"linecolor\":\"white\",\"minorgridcolor\":\"white\",\"startlinecolor\":\"#2a3f5f\"},\"type\":\"carpet\"}],\"table\":[{\"cells\":{\"fill\":{\"color\":\"#EBF0F8\"},\"line\":{\"color\":\"white\"}},\"header\":{\"fill\":{\"color\":\"#C8D4E3\"},\"line\":{\"color\":\"white\"}},\"type\":\"table\"}],\"barpolar\":[{\"marker\":{\"line\":{\"color\":\"#E5ECF6\",\"width\":0.5},\"pattern\":{\"fillmode\":\"overlay\",\"size\":10,\"solidity\":0.2}},\"type\":\"barpolar\"}],\"pie\":[{\"automargin\":true,\"type\":\"pie\"}]},\"layout\":{\"autotypenumbers\":\"strict\",\"colorway\":[\"#636efa\",\"#EF553B\",\"#00cc96\",\"#ab63fa\",\"#FFA15A\",\"#19d3f3\",\"#FF6692\",\"#B6E880\",\"#FF97FF\",\"#FECB52\"],\"font\":{\"color\":\"#2a3f5f\"},\"hovermode\":\"closest\",\"hoverlabel\":{\"align\":\"left\"},\"paper_bgcolor\":\"white\",\"plot_bgcolor\":\"#E5ECF6\",\"polar\":{\"bgcolor\":\"#E5ECF6\",\"angularaxis\":{\"gridcolor\":\"white\",\"linecolor\":\"white\",\"ticks\":\"\"},\"radialaxis\":{\"gridcolor\":\"white\",\"linecolor\":\"white\",\"ticks\":\"\"}},\"ternary\":{\"bgcolor\":\"#E5ECF6\",\"aaxis\":{\"gridcolor\":\"white\",\"linecolor\":\"white\",\"ticks\":\"\"},\"baxis\":{\"gridcolor\":\"white\",\"linecolor\":\"white\",\"ticks\":\"\"},\"caxis\":{\"gridcolor\":\"white\",\"linecolor\":\"white\",\"ticks\":\"\"}},\"coloraxis\":{\"colorbar\":{\"outlinewidth\":0,\"ticks\":\"\"}},\"colorscale\":{\"sequential\":[[0.0,\"#0d0887\"],[0.1111111111111111,\"#46039f\"],[0.2222222222222222,\"#7201a8\"],[0.3333333333333333,\"#9c179e\"],[0.4444444444444444,\"#bd3786\"],[0.5555555555555556,\"#d8576b\"],[0.6666666666666666,\"#ed7953\"],[0.7777777777777778,\"#fb9f3a\"],[0.8888888888888888,\"#fdca26\"],[1.0,\"#f0f921\"]],\"sequentialminus\":[[0.0,\"#0d0887\"],[0.1111111111111111,\"#46039f\"],[0.2222222222222222,\"#7201a8\"],[0.3333333333333333,\"#9c179e\"],[0.4444444444444444,\"#bd3786\"],[0.5555555555555556,\"#d8576b\"],[0.6666666666666666,\"#ed7953\"],[0.7777777777777778,\"#fb9f3a\"],[0.8888888888888888,\"#fdca26\"],[1.0,\"#f0f921\"]],\"diverging\":[[0,\"#8e0152\"],[0.1,\"#c51b7d\"],[0.2,\"#de77ae\"],[0.3,\"#f1b6da\"],[0.4,\"#fde0ef\"],[0.5,\"#f7f7f7\"],[0.6,\"#e6f5d0\"],[0.7,\"#b8e186\"],[0.8,\"#7fbc41\"],[0.9,\"#4d9221\"],[1,\"#276419\"]]},\"xaxis\":{\"gridcolor\":\"white\",\"linecolor\":\"white\",\"ticks\":\"\",\"title\":{\"standoff\":15},\"zerolinecolor\":\"white\",\"automargin\":true,\"zerolinewidth\":2},\"yaxis\":{\"gridcolor\":\"white\",\"linecolor\":\"white\",\"ticks\":\"\",\"title\":{\"standoff\":15},\"zerolinecolor\":\"white\",\"automargin\":true,\"zerolinewidth\":2},\"scene\":{\"xaxis\":{\"backgroundcolor\":\"#E5ECF6\",\"gridcolor\":\"white\",\"linecolor\":\"white\",\"showbackground\":true,\"ticks\":\"\",\"zerolinecolor\":\"white\",\"gridwidth\":2},\"yaxis\":{\"backgroundcolor\":\"#E5ECF6\",\"gridcolor\":\"white\",\"linecolor\":\"white\",\"showbackground\":true,\"ticks\":\"\",\"zerolinecolor\":\"white\",\"gridwidth\":2},\"zaxis\":{\"backgroundcolor\":\"#E5ECF6\",\"gridcolor\":\"white\",\"linecolor\":\"white\",\"showbackground\":true,\"ticks\":\"\",\"zerolinecolor\":\"white\",\"gridwidth\":2}},\"shapedefaults\":{\"line\":{\"color\":\"#2a3f5f\"}},\"annotationdefaults\":{\"arrowcolor\":\"#2a3f5f\",\"arrowhead\":0,\"arrowwidth\":1},\"geo\":{\"bgcolor\":\"white\",\"landcolor\":\"#E5ECF6\",\"subunitcolor\":\"white\",\"showland\":true,\"showlakes\":true,\"lakecolor\":\"white\"},\"title\":{\"x\":0.05},\"mapbox\":{\"style\":\"light\"}}},\"xaxis\":{\"anchor\":\"y\",\"domain\":[0.0,1.0],\"title\":{\"text\":\"Date\"}},\"yaxis\":{\"anchor\":\"x\",\"domain\":[0.0,1.0],\"title\":{\"text\":\"Close Price\"}},\"legend\":{\"tracegroupgap\":0},\"title\":{\"text\":\"SPY Daily Closing Prices\"}},                        {\"responsive\": true}                    ).then(function(){\n",
              "                            \n",
              "var gd = document.getElementById('56c5e5fe-1c4a-4c0b-87cc-d21888215a0e');\n",
              "var x = new MutationObserver(function (mutations, observer) {{\n",
              "        var display = window.getComputedStyle(gd).display;\n",
              "        if (!display || display === 'none') {{\n",
              "            console.log([gd, 'removed!']);\n",
              "            Plotly.purge(gd);\n",
              "            observer.disconnect();\n",
              "        }}\n",
              "}});\n",
              "\n",
              "// Listen for the removal of the full notebook cells\n",
              "var notebookContainer = gd.closest('#notebook-container');\n",
              "if (notebookContainer) {{\n",
              "    x.observe(notebookContainer, {childList: true});\n",
              "}}\n",
              "\n",
              "// Listen for the clearing of the current output cell\n",
              "var outputEl = gd.closest('.output');\n",
              "if (outputEl) {{\n",
              "    x.observe(outputEl, {childList: true});\n",
              "}}\n",
              "\n",
              "                        })                };                            </script>        </div>\n",
              "</body>\n",
              "</html>"
            ]
          },
          "metadata": {}
        }
      ]
    },
    {
      "cell_type": "markdown",
      "source": [
        "## Interactive Chart"
      ],
      "metadata": {
        "id": "4YY_XRr1GwFh"
      }
    },
    {
      "cell_type": "code",
      "source": [
        "!pip install -U kaleido"
      ],
      "metadata": {
        "colab": {
          "base_uri": "https://localhost:8080/"
        },
        "id": "c1jVUw9wuNmE",
        "outputId": "ecbd8b40-a810-480c-9cb7-fc8e43631653"
      },
      "execution_count": null,
      "outputs": [
        {
          "output_type": "stream",
          "name": "stdout",
          "text": [
            "Requirement already satisfied: kaleido in /usr/local/lib/python3.10/dist-packages (0.2.1)\n"
          ]
        }
      ]
    },
    {
      "cell_type": "code",
      "source": [
        "import plotly.graph_objects as go\n",
        "import plotly.io as pio\n",
        "\n",
        "\n",
        "# data[\"tenkan_sen\"] = data_ichimoku_tapy[\"tenkan_sen\"]\n",
        "# data[\"kijun_sen\"] = data_ichimoku_tapy[\"kijun_sen\"]\n",
        "# data[\"senkou_span_a\"] = data_ichimoku_tapy[\"senkou_span_a\"]\n",
        "# data[\"senkou_span_b\"] = data_ichimoku_tapy[\"senkou_span_b\"]\n",
        "\n",
        "# Create the interactive Ichimoku cloud chart\n",
        "fig = go.Figure()\n",
        "\n",
        "# Add candlestick chart\n",
        "fig.add_trace(\n",
        "    go.Candlestick(\n",
        "        x=data_ichimoku_tapy.index,\n",
        "        open=data_ichimoku_tapy[\"Open\"],\n",
        "        high=data_ichimoku_tapy[\"High\"],\n",
        "        low=data_ichimoku_tapy[\"Low\"],\n",
        "        close=data_ichimoku_tapy[\"Close\"],\n",
        "        name=\"Candlesticks\",\n",
        "    )\n",
        ")\n",
        "\n",
        "# Add the Tenkan-sen and Kijun-sen lines\n",
        "fig.add_trace(\n",
        "    go.Scatter(\n",
        "        x=data_ichimoku_tapy.index,\n",
        "        y=data_ichimoku_tapy[\"tenkan_sen\"],\n",
        "        mode=\"lines\",\n",
        "        name=\"Tenkan-sen\",\n",
        "        line=dict(color=\"blue\"),\n",
        "    )\n",
        ")\n",
        "fig.add_trace(\n",
        "    go.Scatter(\n",
        "        x=data_ichimoku_tapy.index,\n",
        "        y=data_ichimoku_tapy[\"kijun_sen\"],\n",
        "        mode=\"lines\",\n",
        "        name=\"Kijun-sen\",\n",
        "        line=dict(color=\"red\"),\n",
        "    )\n",
        ")\n",
        "\n",
        "# Add Senkou Span A and Senkou Span B as filled areas\n",
        "fig.add_trace(\n",
        "    go.Scatter(\n",
        "        x=data_ichimoku_tapy.index,\n",
        "        y=data_ichimoku_tapy[\"senkou_span_a\"],\n",
        "        fillcolor=\"rgba(0,255,0,0.2)\",\n",
        "        line=dict(width=2),\n",
        "        name=\"Senkou Span A\",\n",
        "    )\n",
        ")\n",
        "fig.add_trace(\n",
        "    go.Scatter(\n",
        "        x=data_ichimoku_tapy.index,\n",
        "        y=data_ichimoku_tapy[\"senkou_span_b\"],\n",
        "        fill=\"tonexty\",\n",
        "        fillcolor=\"rgba(255,0,0,0.2)\",\n",
        "        line=dict(width=2),\n",
        "        name=\"Senkou Span B\",\n",
        "    )\n",
        ")  # fill area between trace0 and trace1\n",
        "\n",
        "# Update layout\n",
        "fig.update_layout(\n",
        "    xaxis=dict(\n",
        "        rangeselector=dict(\n",
        "            buttons=list(\n",
        "                [\n",
        "                    dict(count=1, label=\"1m\", step=\"month\", stepmode=\"backward\"),\n",
        "                    dict(count=6, label=\"6m\", step=\"month\", stepmode=\"backward\"),\n",
        "                    dict(count=1, label=\"YTD\", step=\"year\", stepmode=\"todate\"),\n",
        "                    dict(count=1, label=\"1y\", step=\"year\", stepmode=\"backward\"),\n",
        "                    dict(step=\"all\"),\n",
        "                ]\n",
        "            )\n",
        "        ),\n",
        "        rangeslider=dict(visible=True),\n",
        "        type=\"date\",\n",
        "    ),\n",
        "    title=f\"{ticker_symbol} Ichimoku Cloud Chart\",\n",
        "    xaxis_rangeslider_visible=False\n",
        ")\n",
        "\n",
        "# Filter out empty data points on the x-axis\n",
        "fig.update_xaxes(rangebreaks=[dict(bounds=[\"sat\", \"mon\"])])\n",
        "fig.update_yaxes(fixedrange=False)\n",
        "# fig.update_yaxes(autorange=True)  # Set the y-axis to auto-range\n",
        "# fig.update_layout(yaxis_range=[-3,3])\n",
        "\n",
        "# Show the interactive chart\n",
        "fig.show()\n",
        "\n",
        "# Save the chart as an HTML file\n",
        "fig.write_html(f\"{ticker_symbol}_{start_date_str}-{end_date_str}_ichimoku_chart.html\")\n",
        "\n",
        "# Save the chart as a JPEG image\n",
        "file_name = f\"{ticker_symbol}_{start_date_str}-{end_date_str}_ichimoku_chart.jpg\"\n",
        "fig.write_image(file_name, width = 1500, scale = 1)\n",
        "\n",
        "\n"
      ],
      "metadata": {
        "colab": {
          "base_uri": "https://localhost:8080/"
        },
        "id": "J2It2F2KzxYt",
        "outputId": "6d0ca5f1-0190-45cc-f651-12db6c86aa3f"
      },
      "execution_count": null,
      "outputs": [
        {
          "output_type": "display_data",
          "data": {
            "text/html": [
              "<html>\n",
              "<head><meta charset=\"utf-8\" /></head>\n",
              "<body>\n",
              "    <div>            <script src=\"https://cdnjs.cloudflare.com/ajax/libs/mathjax/2.7.5/MathJax.js?config=TeX-AMS-MML_SVG\"></script><script type=\"text/javascript\">if (window.MathJax && window.MathJax.Hub && window.MathJax.Hub.Config) {window.MathJax.Hub.Config({SVG: {font: \"STIX-Web\"}});}</script>                <script type=\"text/javascript\">window.PlotlyConfig = {MathJaxConfig: 'local'};</script>\n",
              "        <script charset=\"utf-8\" src=\"https://cdn.plot.ly/plotly-2.27.0.min.js\"></script>                <div id=\"b84762c6-e828-4ff1-a37d-bd477fb75708\" class=\"plotly-graph-div\" style=\"height:525px; width:100%;\"></div>            <script type=\"text/javascript\">                                    window.PLOTLYENV=window.PLOTLYENV || {};                                    if (document.getElementById(\"b84762c6-e828-4ff1-a37d-bd477fb75708\")) {                    Plotly.newPlot(                        \"b84762c6-e828-4ff1-a37d-bd477fb75708\",                        [{\"close\":[404.4700012207031,398.2699890136719,398.9200134277344,391.55999755859375,385.9100036621094,385.3599853515625,391.7300109863281,389.2799987792969,396.1099853515625,389.989990234375,393.739990234375,398.9100036621094,392.1099853515625,393.1700134277344,395.75,396.489990234375,395.6000061035156,401.3500061035156,403.7000122070313,409.3900146484375,410.9500122070313,408.6700134277344,407.6000061035156,409.1900024414063,409.6099853515625,409.7200012207031,408.0499877929688,413.4700012207031,412.4599914550781,413.9400024414063,414.2099914550781,414.1400146484375,411.8800048828125,412.2000122070313,412.6300048828125,406.0799865722656,404.3599853515625,412.4100036621094,415.9299926757813,415.510009765625,410.8399963378906,408.0199890136719,405.1300048828125,412.6300048828125,412.739990234375,410.9299926757813,412.8500061035156,412.1300048828125,411.5899963378906,413.010009765625,410.25,415.2300109863281,419.2300109863281,418.6199951171875,418.7900085449219,414.0899963378906,411.0899963378906,414.6499938964844,420.0199890136719,420.1799926757813,417.8500061035156,421.8200073242188,427.9200134277344,427.1000061035156,428.0299987792969,426.5499877929688,429.1300048828125,429.8999938964844,433.7999877929688,436.6600036621094,437.1799926757813,442.6000061035156,439.4599914550781,437.1799926757813,434.9400024414063,436.510009765625,433.2099914550781,431.4400024414063,436.1700134277344,436.3900146484375,438.1099853515625,443.2799987792969,443.7900085449219,443.1300048828125,439.6600036621094,438.5499877929688,439.6600036621094,442.4599914550781,446.0199890136719,449.55999755859375,449.2799987792969,450.8399963378906,454.1900024414063,455.2000122070313,452.1799926757813,452.1799926757813,454.2000122070313,455.4400024414063,455.510009765625,452.489990234375,456.9200134277344,457.7900085449219,456.4800109863281,450.1300048828125,448.8399963378906,446.80999755859375,450.7099914550781,448.75,445.75,445.9100036621094,445.6499938964844,448.1099853515625,442.8900146484375,439.6400146484375,436.2900085449219,436.5,439.3399963378906,438.1499938964844,443.0299987792969,436.8900146484375,439.9700012207031,442.760009765625,449.1600036621094,451.010009765625,450.3500061035156,451.1900024414063,449.239990234375,446.2200012207031,444.8500061035156,445.5199890136719,448.4500122070313,445.989990234375,446.510009765625,450.3599853515625,443.3699951171875,443.6300048828125,442.7099914550781,438.6400146484375,431.3900146484375,430.4200134277344,432.2300109863281,425.8800048828125,426.0499877929688,428.5199890136719,427.4800109863281,427.30999755859375,421.5899963378906,424.6600036621094,424.5,429.5400085449219,432.2900085449219,434.5400085449219,436.3200073242188,433.6600036621094,431.5,436.0400085449219,436.0199890136719,430.2099914550781,426.4299926757813,421.1900024414063,420.4599914550781,423.6300048828125,417.5499877929688,412.5499877929688,410.6799926757813,415.5899963378906,418.2000122070313],\"high\":[407.4500122070313,404.6700134277344,399.7099914550781,401.4800109863281,393.1600036621094,390.3900146484375,393.4500122070313,389.489990234375,396.4700012207031,394.3999938964844,394.1700134277344,399.4100036621094,402.489990234375,399.2900085449219,395.8399963378906,398.9200134277344,396.489990234375,401.6000061035156,404.3500061035156,409.7000122070313,411.3699951171875,411.9200134277344,408.7000122070313,409.4800109863281,409.6900024414063,411.1799926757813,412.1700134277344,413.8399963378906,415.0899963378906,413.9599914550781,415.7200012207031,415.0799865722656,413.7000122070313,412.6799926757813,413.0700073242188,411.1600036621094,407.8399963378906,412.6900024414063,415.9400024414063,417.6199951171875,414.8200073242188,413.8699951171875,407.2699890136719,413.7200012207031,413.239990234375,412.0899963378906,414.5400085449219,412.4299926757813,413.6400146484375,413.4299926757813,412.8200073242188,415.8599853515625,419.6700134277344,420.7200012207031,420.3900146484375,418.7200012207031,412.8200073242188,416.1600036621094,420.7699890136719,422.5799865722656,419.2200012207031,422.9200134277344,428.739990234375,429.6199951171875,428.5799865722656,429.6199951171875,429.6000061035156,431.989990234375,433.8800048828125,437.3299865722656,439.05999755859375,443.8999938964844,443.6099853515625,438.3699951171875,436.989990234375,436.6199951171875,435.05999755859375,434.6099853515625,436.80999755859375,437.4400024414063,438.2799987792969,444.2999877929688,444.0799865722656,443.8900146484375,440.1000061035156,442.6400146484375,439.8399963378906,442.9700012207031,447.4800109863281,450.3800048828125,451.3599853515625,451.9299926757813,454.8599853515625,456.4299926757813,455.1000061035156,454.1700134277344,455.0400085449219,456.739990234375,456.989990234375,459.4400024414063,457.7799987792969,458.1600036621094,457.25,453.5199890136719,450.7900085449219,452.8999938964844,450.8699951171875,450.7000122070313,449.2000122070313,451.7000122070313,446.7000122070313,448.1099853515625,446.6400146484375,444.1799926757813,441.4299926757813,437.5700073242188,440.1099853515625,441.1799926757813,443.6700134277344,445.2200012207031,441.2999877929688,443.3999938964844,449.4500122070313,451.6700134277344,452.8299865722656,453.6700134277344,451.05999755859375,448.510009765625,445.5499877929688,447.1099853515625,448.7699890136719,448.5299987792969,447.7099914550781,451.0799865722656,447.4800109863281,444.9700012207031,443.2900085449219,444.4400024414063,435.9700012207031,434.1000061035156,432.2699890136719,429.8200073242188,427.6700134277344,430.25,431.8500061035156,428.6000061035156,427.3699951171875,425.4299926757813,425.3699951171875,431.1300048828125,432.8800048828125,437.2200012207031,436.5799865722656,437.3399963378906,436.4500122070313,437.1400146484375,438.1400146484375,435.1799926757813,432.8200073242188,426.5400085449219,424.4500122070313,424.8200073242188,421.9200134277344,417.3299865722656,414.6000061035156,416.6799926757813,418.5299987792969],\"low\":[404.010009765625,397.6300048828125,396.5899963378906,390.5299987792969,384.3200073242188,380.6499938964844,387.0499877929688,383.7099914550781,386.2900085449219,388.5499877929688,390.0700073242188,395.5799865722656,392.0700073242188,390.3500061035156,389.3999938964844,395.55999755859375,393.6900024414063,398.6799926757813,401.760009765625,404.5499877929688,408.4400024414063,407.239990234375,405.8800048828125,405.6799926757813,405.9700012207031,408.9200134277344,407.4400024414063,407.989990234375,410.05999755859375,411.0899963378906,412.7799987792969,412.1600036621094,410.2699890136719,410.1700134277344,410.6000061035156,406.0199890136719,403.7799987792969,406.739990234375,411.4299926757813,415.2699890136719,407.8200073242188,407.7699890136719,403.739990234375,408.6400146484375,411.2799987792969,410.6900024414063,408.8699951171875,409.9700012207031,409.0700073242188,410.2300109863281,410.239990234375,410.6400146484375,414.6700134277344,417.3500061035156,417.3500061035156,413.6799926757813,409.8800048828125,412.4100036621094,415.25,418.739990234375,416.2200012207031,416.7900085449219,423.9500122070313,426.3699951171875,425.989990234375,426.1099853515625,425.8200073242188,428.8699951171875,430.1700134277344,434.6300048828125,433.5899963378906,436.2300109863281,438.9700012207031,435.0299987792969,434.3299865722656,433.6000061035156,432.4700012207031,431.1900024414063,431.8800048828125,434.4100036621094,435.5400085449219,441.1099853515625,442.6300048828125,441.8999938964844,437.05999755859375,438.2999877929688,437.5899963378906,439.4400024414063,444.9100036621094,447.4500122070313,448.489990234375,449.0799865722656,450.0499877929688,454.1099853515625,451.4400024414063,452.1700134277344,452.2999877929688,453.8699951171875,453.3800048828125,451.5499877929688,452.489990234375,456.0499877929688,455.489990234375,449.3500061035156,447.3699951171875,446.2699890136719,447.989990234375,445.2699890136719,444.9599914550781,444.7000122070313,443.3500061035156,444.3800048828125,442.2999877929688,439.5299987792969,435.75,433.010009765625,435.3200073242188,437.5700073242188,439.1000061035156,436.8599853515625,435.0,439.9700012207031,442.4599914550781,448.7799987792969,450.1600036621094,449.6799926757813,449.1700134277344,443.80999755859375,442.75,444.5299987792969,446.4700012207031,445.3900146484375,445.0799865722656,447.7200012207031,442.9200134277344,442.55999755859375,439.9400024414063,438.4299926757813,431.2300109863281,429.989990234375,428.7200012207031,425.0199890136719,422.2900085449219,424.8699951171875,425.9100036621094,424.4599914550781,420.1799926757813,420.55999755859375,421.1700134277344,420.6000061035156,427.010009765625,432.5299987792969,433.1799926757813,431.2300109863281,429.8800048828125,433.5700073242188,432.4500122070313,429.0899963378906,425.7300109863281,421.0799865722656,417.7999877929688,420.739990234375,417.0199890136719,411.6000061035156,409.2099914550781,412.2200012207031,414.2099914550781],\"name\":\"Candlesticks\",\"open\":[405.0499877929688,404.4200134277344,398.3900146484375,399.739990234375,390.989990234375,381.80999755859375,390.5,385.8900146484375,386.8200073242188,393.2200012207031,390.7999877929688,397.239990234375,398.7300109863281,395.0899963378906,391.8399963378906,398.1199951171875,395.7699890136719,399.9299926757813,404.0899963378906,404.6600036621094,408.8500061035156,411.6199951171875,407.9100036621094,406.7699890136719,406.6099853515625,410.260009765625,411.8699951171875,409.1799926757813,412.80999755859375,412.3699951171875,415.5799865722656,412.2200012207031,411.2099914550781,412.1900024414063,411.989990234375,410.5799865722656,406.7200012207031,407.0,411.489990234375,415.4700012207031,414.7699890136719,411.3599853515625,406.9299926757813,408.9100036621094,412.9700012207031,411.1300048828125,413.8800048828125,411.9500122070313,413.4200134277344,412.2200012207031,411.8599853515625,412.3500061035156,414.8999938964844,420.1700134277344,418.6400146484375,417.0799865722656,412.4200134277344,414.739990234375,415.3299865722656,422.0299987792969,418.2799987792969,418.0899963378906,424.5,428.2799987792969,426.6700134277344,428.4400024414063,426.6199951171875,429.9599914550781,430.9200134277344,435.3200073242188,437.010009765625,436.3299865722656,443.0199890136719,437.4500122070313,436.1600036621094,433.9500122070313,432.9299926757813,432.6199951171875,432.3500061035156,435.0499877929688,435.9599914550781,441.4400024414063,442.9200134277344,441.9100036621094,439.4200134277344,438.6300048828125,438.1799926757813,440.4500122070313,446.3900146484375,447.8999938964844,450.4800109863281,449.1300048828125,450.5,455.010009765625,454.1700134277344,453.9599914550781,453.3699951171875,453.9200134277344,454.4700012207031,459.0199890136719,455.8800048828125,457.4100036621094,456.2699890136719,453.25,448.0400085449219,450.7200012207031,448.7099914550781,448.0799865722656,449.0299987792969,448.1900024414063,443.9700012207031,444.7000122070313,446.2699890136719,442.4599914550781,441.1600036621094,433.3699951171875,437.5499877929688,441.1799926757813,439.25,444.6900024414063,438.6799926757813,442.239990234375,442.6499938964844,449.510009765625,451.6499938964844,453.1700134277344,450.7300109863281,448.3999938964844,443.1099853515625,444.8999938964844,448.239990234375,446.9500122070313,446.2200012207031,449.0700073242188,447.1400146484375,443.0499877929688,442.6799926757813,444.010009765625,435.7000122070313,432.4500122070313,429.1700134277344,429.0899963378906,427.0899963378906,425.4800109863281,431.6700134277344,426.6199951171875,425.05999755859375,422.0700073242188,424.3599853515625,421.9700012207031,427.5799865722656,432.9400024414063,435.6400146484375,436.9500122070313,435.2099914550781,433.8200073242188,432.80999755859375,434.1900024414063,430.9500122070313,425.9800109863281,419.6099853515625,422.6499938964844,421.8900146484375,416.4500122070313,414.1900024414063,413.55999755859375,416.1799926757813],\"x\":[\"2023-03-06T00:00:00\",\"2023-03-07T00:00:00\",\"2023-03-08T00:00:00\",\"2023-03-09T00:00:00\",\"2023-03-10T00:00:00\",\"2023-03-13T00:00:00\",\"2023-03-14T00:00:00\",\"2023-03-15T00:00:00\",\"2023-03-16T00:00:00\",\"2023-03-17T00:00:00\",\"2023-03-20T00:00:00\",\"2023-03-21T00:00:00\",\"2023-03-22T00:00:00\",\"2023-03-23T00:00:00\",\"2023-03-24T00:00:00\",\"2023-03-27T00:00:00\",\"2023-03-28T00:00:00\",\"2023-03-29T00:00:00\",\"2023-03-30T00:00:00\",\"2023-03-31T00:00:00\",\"2023-04-03T00:00:00\",\"2023-04-04T00:00:00\",\"2023-04-05T00:00:00\",\"2023-04-06T00:00:00\",\"2023-04-10T00:00:00\",\"2023-04-11T00:00:00\",\"2023-04-12T00:00:00\",\"2023-04-13T00:00:00\",\"2023-04-14T00:00:00\",\"2023-04-17T00:00:00\",\"2023-04-18T00:00:00\",\"2023-04-19T00:00:00\",\"2023-04-20T00:00:00\",\"2023-04-21T00:00:00\",\"2023-04-24T00:00:00\",\"2023-04-25T00:00:00\",\"2023-04-26T00:00:00\",\"2023-04-27T00:00:00\",\"2023-04-28T00:00:00\",\"2023-05-01T00:00:00\",\"2023-05-02T00:00:00\",\"2023-05-03T00:00:00\",\"2023-05-04T00:00:00\",\"2023-05-05T00:00:00\",\"2023-05-08T00:00:00\",\"2023-05-09T00:00:00\",\"2023-05-10T00:00:00\",\"2023-05-11T00:00:00\",\"2023-05-12T00:00:00\",\"2023-05-15T00:00:00\",\"2023-05-16T00:00:00\",\"2023-05-17T00:00:00\",\"2023-05-18T00:00:00\",\"2023-05-19T00:00:00\",\"2023-05-22T00:00:00\",\"2023-05-23T00:00:00\",\"2023-05-24T00:00:00\",\"2023-05-25T00:00:00\",\"2023-05-26T00:00:00\",\"2023-05-30T00:00:00\",\"2023-05-31T00:00:00\",\"2023-06-01T00:00:00\",\"2023-06-02T00:00:00\",\"2023-06-05T00:00:00\",\"2023-06-06T00:00:00\",\"2023-06-07T00:00:00\",\"2023-06-08T00:00:00\",\"2023-06-09T00:00:00\",\"2023-06-12T00:00:00\",\"2023-06-13T00:00:00\",\"2023-06-14T00:00:00\",\"2023-06-15T00:00:00\",\"2023-06-16T00:00:00\",\"2023-06-20T00:00:00\",\"2023-06-21T00:00:00\",\"2023-06-22T00:00:00\",\"2023-06-23T00:00:00\",\"2023-06-26T00:00:00\",\"2023-06-27T00:00:00\",\"2023-06-28T00:00:00\",\"2023-06-29T00:00:00\",\"2023-06-30T00:00:00\",\"2023-07-03T00:00:00\",\"2023-07-05T00:00:00\",\"2023-07-06T00:00:00\",\"2023-07-07T00:00:00\",\"2023-07-10T00:00:00\",\"2023-07-11T00:00:00\",\"2023-07-12T00:00:00\",\"2023-07-13T00:00:00\",\"2023-07-14T00:00:00\",\"2023-07-17T00:00:00\",\"2023-07-18T00:00:00\",\"2023-07-19T00:00:00\",\"2023-07-20T00:00:00\",\"2023-07-21T00:00:00\",\"2023-07-24T00:00:00\",\"2023-07-25T00:00:00\",\"2023-07-26T00:00:00\",\"2023-07-27T00:00:00\",\"2023-07-28T00:00:00\",\"2023-07-31T00:00:00\",\"2023-08-01T00:00:00\",\"2023-08-02T00:00:00\",\"2023-08-03T00:00:00\",\"2023-08-04T00:00:00\",\"2023-08-07T00:00:00\",\"2023-08-08T00:00:00\",\"2023-08-09T00:00:00\",\"2023-08-10T00:00:00\",\"2023-08-11T00:00:00\",\"2023-08-14T00:00:00\",\"2023-08-15T00:00:00\",\"2023-08-16T00:00:00\",\"2023-08-17T00:00:00\",\"2023-08-18T00:00:00\",\"2023-08-21T00:00:00\",\"2023-08-22T00:00:00\",\"2023-08-23T00:00:00\",\"2023-08-24T00:00:00\",\"2023-08-25T00:00:00\",\"2023-08-28T00:00:00\",\"2023-08-29T00:00:00\",\"2023-08-30T00:00:00\",\"2023-08-31T00:00:00\",\"2023-09-01T00:00:00\",\"2023-09-05T00:00:00\",\"2023-09-06T00:00:00\",\"2023-09-07T00:00:00\",\"2023-09-08T00:00:00\",\"2023-09-11T00:00:00\",\"2023-09-12T00:00:00\",\"2023-09-13T00:00:00\",\"2023-09-14T00:00:00\",\"2023-09-15T00:00:00\",\"2023-09-18T00:00:00\",\"2023-09-19T00:00:00\",\"2023-09-20T00:00:00\",\"2023-09-21T00:00:00\",\"2023-09-22T00:00:00\",\"2023-09-25T00:00:00\",\"2023-09-26T00:00:00\",\"2023-09-27T00:00:00\",\"2023-09-28T00:00:00\",\"2023-09-29T00:00:00\",\"2023-10-02T00:00:00\",\"2023-10-03T00:00:00\",\"2023-10-04T00:00:00\",\"2023-10-05T00:00:00\",\"2023-10-06T00:00:00\",\"2023-10-09T00:00:00\",\"2023-10-10T00:00:00\",\"2023-10-11T00:00:00\",\"2023-10-12T00:00:00\",\"2023-10-13T00:00:00\",\"2023-10-16T00:00:00\",\"2023-10-17T00:00:00\",\"2023-10-18T00:00:00\",\"2023-10-19T00:00:00\",\"2023-10-20T00:00:00\",\"2023-10-23T00:00:00\",\"2023-10-24T00:00:00\",\"2023-10-25T00:00:00\",\"2023-10-26T00:00:00\",\"2023-10-27T00:00:00\",\"2023-10-30T00:00:00\",\"2023-10-31T00:00:00\"],\"type\":\"candlestick\"},{\"line\":{\"color\":\"blue\"},\"mode\":\"lines\",\"name\":\"Tenkan-sen\",\"x\":[\"2023-03-06T00:00:00\",\"2023-03-07T00:00:00\",\"2023-03-08T00:00:00\",\"2023-03-09T00:00:00\",\"2023-03-10T00:00:00\",\"2023-03-13T00:00:00\",\"2023-03-14T00:00:00\",\"2023-03-15T00:00:00\",\"2023-03-16T00:00:00\",\"2023-03-17T00:00:00\",\"2023-03-20T00:00:00\",\"2023-03-21T00:00:00\",\"2023-03-22T00:00:00\",\"2023-03-23T00:00:00\",\"2023-03-24T00:00:00\",\"2023-03-27T00:00:00\",\"2023-03-28T00:00:00\",\"2023-03-29T00:00:00\",\"2023-03-30T00:00:00\",\"2023-03-31T00:00:00\",\"2023-04-03T00:00:00\",\"2023-04-04T00:00:00\",\"2023-04-05T00:00:00\",\"2023-04-06T00:00:00\",\"2023-04-10T00:00:00\",\"2023-04-11T00:00:00\",\"2023-04-12T00:00:00\",\"2023-04-13T00:00:00\",\"2023-04-14T00:00:00\",\"2023-04-17T00:00:00\",\"2023-04-18T00:00:00\",\"2023-04-19T00:00:00\",\"2023-04-20T00:00:00\",\"2023-04-21T00:00:00\",\"2023-04-24T00:00:00\",\"2023-04-25T00:00:00\",\"2023-04-26T00:00:00\",\"2023-04-27T00:00:00\",\"2023-04-28T00:00:00\",\"2023-05-01T00:00:00\",\"2023-05-02T00:00:00\",\"2023-05-03T00:00:00\",\"2023-05-04T00:00:00\",\"2023-05-05T00:00:00\",\"2023-05-08T00:00:00\",\"2023-05-09T00:00:00\",\"2023-05-10T00:00:00\",\"2023-05-11T00:00:00\",\"2023-05-12T00:00:00\",\"2023-05-15T00:00:00\",\"2023-05-16T00:00:00\",\"2023-05-17T00:00:00\",\"2023-05-18T00:00:00\",\"2023-05-19T00:00:00\",\"2023-05-22T00:00:00\",\"2023-05-23T00:00:00\",\"2023-05-24T00:00:00\",\"2023-05-25T00:00:00\",\"2023-05-26T00:00:00\",\"2023-05-30T00:00:00\",\"2023-05-31T00:00:00\",\"2023-06-01T00:00:00\",\"2023-06-02T00:00:00\",\"2023-06-05T00:00:00\",\"2023-06-06T00:00:00\",\"2023-06-07T00:00:00\",\"2023-06-08T00:00:00\",\"2023-06-09T00:00:00\",\"2023-06-12T00:00:00\",\"2023-06-13T00:00:00\",\"2023-06-14T00:00:00\",\"2023-06-15T00:00:00\",\"2023-06-16T00:00:00\",\"2023-06-20T00:00:00\",\"2023-06-21T00:00:00\",\"2023-06-22T00:00:00\",\"2023-06-23T00:00:00\",\"2023-06-26T00:00:00\",\"2023-06-27T00:00:00\",\"2023-06-28T00:00:00\",\"2023-06-29T00:00:00\",\"2023-06-30T00:00:00\",\"2023-07-03T00:00:00\",\"2023-07-05T00:00:00\",\"2023-07-06T00:00:00\",\"2023-07-07T00:00:00\",\"2023-07-10T00:00:00\",\"2023-07-11T00:00:00\",\"2023-07-12T00:00:00\",\"2023-07-13T00:00:00\",\"2023-07-14T00:00:00\",\"2023-07-17T00:00:00\",\"2023-07-18T00:00:00\",\"2023-07-19T00:00:00\",\"2023-07-20T00:00:00\",\"2023-07-21T00:00:00\",\"2023-07-24T00:00:00\",\"2023-07-25T00:00:00\",\"2023-07-26T00:00:00\",\"2023-07-27T00:00:00\",\"2023-07-28T00:00:00\",\"2023-07-31T00:00:00\",\"2023-08-01T00:00:00\",\"2023-08-02T00:00:00\",\"2023-08-03T00:00:00\",\"2023-08-04T00:00:00\",\"2023-08-07T00:00:00\",\"2023-08-08T00:00:00\",\"2023-08-09T00:00:00\",\"2023-08-10T00:00:00\",\"2023-08-11T00:00:00\",\"2023-08-14T00:00:00\",\"2023-08-15T00:00:00\",\"2023-08-16T00:00:00\",\"2023-08-17T00:00:00\",\"2023-08-18T00:00:00\",\"2023-08-21T00:00:00\",\"2023-08-22T00:00:00\",\"2023-08-23T00:00:00\",\"2023-08-24T00:00:00\",\"2023-08-25T00:00:00\",\"2023-08-28T00:00:00\",\"2023-08-29T00:00:00\",\"2023-08-30T00:00:00\",\"2023-08-31T00:00:00\",\"2023-09-01T00:00:00\",\"2023-09-05T00:00:00\",\"2023-09-06T00:00:00\",\"2023-09-07T00:00:00\",\"2023-09-08T00:00:00\",\"2023-09-11T00:00:00\",\"2023-09-12T00:00:00\",\"2023-09-13T00:00:00\",\"2023-09-14T00:00:00\",\"2023-09-15T00:00:00\",\"2023-09-18T00:00:00\",\"2023-09-19T00:00:00\",\"2023-09-20T00:00:00\",\"2023-09-21T00:00:00\",\"2023-09-22T00:00:00\",\"2023-09-25T00:00:00\",\"2023-09-26T00:00:00\",\"2023-09-27T00:00:00\",\"2023-09-28T00:00:00\",\"2023-09-29T00:00:00\",\"2023-10-02T00:00:00\",\"2023-10-03T00:00:00\",\"2023-10-04T00:00:00\",\"2023-10-05T00:00:00\",\"2023-10-06T00:00:00\",\"2023-10-09T00:00:00\",\"2023-10-10T00:00:00\",\"2023-10-11T00:00:00\",\"2023-10-12T00:00:00\",\"2023-10-13T00:00:00\",\"2023-10-16T00:00:00\",\"2023-10-17T00:00:00\",\"2023-10-18T00:00:00\",\"2023-10-19T00:00:00\",\"2023-10-20T00:00:00\",\"2023-10-23T00:00:00\",\"2023-10-24T00:00:00\",\"2023-10-25T00:00:00\",\"2023-10-26T00:00:00\",\"2023-10-27T00:00:00\",\"2023-10-30T00:00:00\",\"2023-10-31T00:00:00\"],\"y\":[null,null,null,null,null,null,null,null,394.0500030517578,392.6600036621094,391.06500244140625,391.06500244140625,391.5699920654297,391.5699920654297,393.09999084472656,393.09999084472656,394.38999938964844,395.5199890136719,396.875,399.5500030517578,400.38499450683594,400.6600036621094,400.6600036621094,402.8050079345703,402.8050079345703,405.3000030517578,406.9650115966797,409.1949920654297,410.38499450683594,410.38499450683594,410.6999969482422,410.6999969482422,410.8450012207031,411.5800018310547,411.5800018310547,410.8699951171875,409.75,409.75,409.86000061035156,410.6999969482422,410.6999969482422,410.6999969482422,410.67999267578125,410.67999267578125,410.67999267578125,410.67999267578125,410.67999267578125,410.67999267578125,409.2799987792969,409.13999938964844,409.13999938964844,412.25,414.27000427246094,414.7949981689453,414.7949981689453,414.89500427246094,414.89500427246094,415.3000030517578,415.3249969482422,416.22999572753906,416.22999572753906,416.40000915527344,419.30999755859375,419.75,419.75,421.01499938964844,422.43499755859375,424.10499572753906,425.0500030517578,427.05999755859375,431.5050048828125,434.86000061035156,434.86000061035156,434.86000061035156,434.86000061035156,436.38499450683594,437.0350036621094,437.5449981689453,437.5449981689453,437.5449981689453,437.3999938964844,437.74499511718756,437.74499511718756,437.74499511718756,437.74499511718756,437.74499511718756,438.0899963378906,439.35499572753906,441.510009765625,443.7200012207031,444.2099914550781,444.4949951171875,445.9599914550781,447.00999450683594,447.00999450683594,447.9349975585938,450.6699981689453,452.0950012207031,452.739990234375,454.25999450683594,454.74499511718756,455.4400024414063,455.4400024414063,454.39500427246094,453.4049987792969,452.85499572753906,452.85499572753906,452.35499572753906,451.55999755859375,451.4300079345703,450.3000030517578,448.43499755859375,447.59999084472656,446.2149963378906,443.7250061035156,442.3550109863281,442.3550109863281,442.3550109863281,440.55999755859375,440.55999755859375,439.82501220703125,439.11500549316406,441.2300109863281,442.3400115966797,443.9149932861328,444.3350067138672,444.3350067138672,444.3350067138672,444.3350067138672,446.82000732421875,448.06500244140625,448.2100067138672,448.2100067138672,448.2100067138672,446.9149932861328,446.8199920654297,445.50999450683594,444.75498962402344,441.1549987792969,440.5349884033203,439.8999938964844,438.04998779296875,434.885009765625,433.6300048828125,433.36500549316406,433.36500549316406,428.0749969482422,427.13999938964844,426.22499084472656,426.01499938964844,426.5299987792969,428.6999969482422,428.6999969482422,428.75999450683594,428.75999450683594,428.9499969482422,429.37001037597656,429.37001037597656,431.9350128173828,429.61000061035156,427.9700012207031,427.9700012207031,427.5800018310547,424.87001037597656,423.6750030517578,422.1949920654297,421.01499938964844],\"type\":\"scatter\"},{\"line\":{\"color\":\"red\"},\"mode\":\"lines\",\"name\":\"Kijun-sen\",\"x\":[\"2023-03-06T00:00:00\",\"2023-03-07T00:00:00\",\"2023-03-08T00:00:00\",\"2023-03-09T00:00:00\",\"2023-03-10T00:00:00\",\"2023-03-13T00:00:00\",\"2023-03-14T00:00:00\",\"2023-03-15T00:00:00\",\"2023-03-16T00:00:00\",\"2023-03-17T00:00:00\",\"2023-03-20T00:00:00\",\"2023-03-21T00:00:00\",\"2023-03-22T00:00:00\",\"2023-03-23T00:00:00\",\"2023-03-24T00:00:00\",\"2023-03-27T00:00:00\",\"2023-03-28T00:00:00\",\"2023-03-29T00:00:00\",\"2023-03-30T00:00:00\",\"2023-03-31T00:00:00\",\"2023-04-03T00:00:00\",\"2023-04-04T00:00:00\",\"2023-04-05T00:00:00\",\"2023-04-06T00:00:00\",\"2023-04-10T00:00:00\",\"2023-04-11T00:00:00\",\"2023-04-12T00:00:00\",\"2023-04-13T00:00:00\",\"2023-04-14T00:00:00\",\"2023-04-17T00:00:00\",\"2023-04-18T00:00:00\",\"2023-04-19T00:00:00\",\"2023-04-20T00:00:00\",\"2023-04-21T00:00:00\",\"2023-04-24T00:00:00\",\"2023-04-25T00:00:00\",\"2023-04-26T00:00:00\",\"2023-04-27T00:00:00\",\"2023-04-28T00:00:00\",\"2023-05-01T00:00:00\",\"2023-05-02T00:00:00\",\"2023-05-03T00:00:00\",\"2023-05-04T00:00:00\",\"2023-05-05T00:00:00\",\"2023-05-08T00:00:00\",\"2023-05-09T00:00:00\",\"2023-05-10T00:00:00\",\"2023-05-11T00:00:00\",\"2023-05-12T00:00:00\",\"2023-05-15T00:00:00\",\"2023-05-16T00:00:00\",\"2023-05-17T00:00:00\",\"2023-05-18T00:00:00\",\"2023-05-19T00:00:00\",\"2023-05-22T00:00:00\",\"2023-05-23T00:00:00\",\"2023-05-24T00:00:00\",\"2023-05-25T00:00:00\",\"2023-05-26T00:00:00\",\"2023-05-30T00:00:00\",\"2023-05-31T00:00:00\",\"2023-06-01T00:00:00\",\"2023-06-02T00:00:00\",\"2023-06-05T00:00:00\",\"2023-06-06T00:00:00\",\"2023-06-07T00:00:00\",\"2023-06-08T00:00:00\",\"2023-06-09T00:00:00\",\"2023-06-12T00:00:00\",\"2023-06-13T00:00:00\",\"2023-06-14T00:00:00\",\"2023-06-15T00:00:00\",\"2023-06-16T00:00:00\",\"2023-06-20T00:00:00\",\"2023-06-21T00:00:00\",\"2023-06-22T00:00:00\",\"2023-06-23T00:00:00\",\"2023-06-26T00:00:00\",\"2023-06-27T00:00:00\",\"2023-06-28T00:00:00\",\"2023-06-29T00:00:00\",\"2023-06-30T00:00:00\",\"2023-07-03T00:00:00\",\"2023-07-05T00:00:00\",\"2023-07-06T00:00:00\",\"2023-07-07T00:00:00\",\"2023-07-10T00:00:00\",\"2023-07-11T00:00:00\",\"2023-07-12T00:00:00\",\"2023-07-13T00:00:00\",\"2023-07-14T00:00:00\",\"2023-07-17T00:00:00\",\"2023-07-18T00:00:00\",\"2023-07-19T00:00:00\",\"2023-07-20T00:00:00\",\"2023-07-21T00:00:00\",\"2023-07-24T00:00:00\",\"2023-07-25T00:00:00\",\"2023-07-26T00:00:00\",\"2023-07-27T00:00:00\",\"2023-07-28T00:00:00\",\"2023-07-31T00:00:00\",\"2023-08-01T00:00:00\",\"2023-08-02T00:00:00\",\"2023-08-03T00:00:00\",\"2023-08-04T00:00:00\",\"2023-08-07T00:00:00\",\"2023-08-08T00:00:00\",\"2023-08-09T00:00:00\",\"2023-08-10T00:00:00\",\"2023-08-11T00:00:00\",\"2023-08-14T00:00:00\",\"2023-08-15T00:00:00\",\"2023-08-16T00:00:00\",\"2023-08-17T00:00:00\",\"2023-08-18T00:00:00\",\"2023-08-21T00:00:00\",\"2023-08-22T00:00:00\",\"2023-08-23T00:00:00\",\"2023-08-24T00:00:00\",\"2023-08-25T00:00:00\",\"2023-08-28T00:00:00\",\"2023-08-29T00:00:00\",\"2023-08-30T00:00:00\",\"2023-08-31T00:00:00\",\"2023-09-01T00:00:00\",\"2023-09-05T00:00:00\",\"2023-09-06T00:00:00\",\"2023-09-07T00:00:00\",\"2023-09-08T00:00:00\",\"2023-09-11T00:00:00\",\"2023-09-12T00:00:00\",\"2023-09-13T00:00:00\",\"2023-09-14T00:00:00\",\"2023-09-15T00:00:00\",\"2023-09-18T00:00:00\",\"2023-09-19T00:00:00\",\"2023-09-20T00:00:00\",\"2023-09-21T00:00:00\",\"2023-09-22T00:00:00\",\"2023-09-25T00:00:00\",\"2023-09-26T00:00:00\",\"2023-09-27T00:00:00\",\"2023-09-28T00:00:00\",\"2023-09-29T00:00:00\",\"2023-10-02T00:00:00\",\"2023-10-03T00:00:00\",\"2023-10-04T00:00:00\",\"2023-10-05T00:00:00\",\"2023-10-06T00:00:00\",\"2023-10-09T00:00:00\",\"2023-10-10T00:00:00\",\"2023-10-11T00:00:00\",\"2023-10-12T00:00:00\",\"2023-10-13T00:00:00\",\"2023-10-16T00:00:00\",\"2023-10-17T00:00:00\",\"2023-10-18T00:00:00\",\"2023-10-19T00:00:00\",\"2023-10-20T00:00:00\",\"2023-10-23T00:00:00\",\"2023-10-24T00:00:00\",\"2023-10-25T00:00:00\",\"2023-10-26T00:00:00\",\"2023-10-27T00:00:00\",\"2023-10-30T00:00:00\",\"2023-10-31T00:00:00\"],\"y\":[null,null,null,null,null,null,null,null,null,null,null,null,null,null,null,null,null,null,null,null,null,null,null,null,null,396.2850036621094,396.4100036621094,397.2449951171875,397.8699951171875,397.8699951171875,398.18499755859375,399.7149963378906,399.7149963378906,401.0050048828125,402.13499450683594,402.55999755859375,402.55999755859375,402.55999755859375,402.6699981689453,403.50999450683594,405.6549987792969,405.6549987792969,408.1499938964844,409.69000244140625,410.67999267578125,410.67999267578125,410.67999267578125,410.67999267578125,410.67999267578125,410.67999267578125,410.67999267578125,410.67999267578125,411.7050018310547,412.22999572753906,412.22999572753906,412.22999572753906,412.22999572753906,412.22999572753906,412.25498962402344,413.1599884033203,413.1599884033203,413.3300018310547,416.239990234375,416.67999267578125,416.67999267578125,416.67999267578125,416.67999267578125,417.864990234375,421.260009765625,423.09999084472656,423.9649963378906,426.38499450683594,426.48500061035156,426.48500061035156,426.88999938964844,426.88999938964844,426.88999938964844,426.88999938964844,426.88999938964844,426.88999938964844,426.88999938964844,427.0899963378906,428.35499572753906,429.7749938964844,430.25999450683594,430.25999450683594,430.5449981689453,434.12500000000006,436.65000915527344,438.1000061035156,438.5899963378906,438.87500000000006,441.864990234375,443.3000030517578,443.8099975585938,443.8099975585938,443.8099975585938,443.9649963378906,444.0899963378906,445.3150024414063,445.3150024414063,445.3150024414063,445.3150024414063,445.6600036621094,446.9250030517578,447.49000549316406,448.25,448.25,448.25,448.25,448.51499938964844,448.51499938964844,449.4400024414063,449.48500061035156,447.5950012207031,446.2250061035156,446.2250061035156,446.2250061035156,446.2250061035156,446.2250061035156,446.2250061035156,446.2250061035156,446.2250061035156,446.2250061035156,446.2250061035156,445.5850067138672,445.5850067138672,445.1300048828125,443.3400115966797,443.3400115966797,443.3400115966797,443.3400115966797,443.3400115966797,443.3400115966797,443.3400115966797,443.3400115966797,443.3400115966797,443.3400115966797,442.45001220703125,441.8300018310547,441.19500732421875,439.3450012207031,437.9800109863281,437.9800109863281,437.9800109863281,437.9800109863281,436.9250030517578,436.9250030517578,436.9250030517578,436.9250030517578,436.9250030517578,435.62998962402344,435.62998962402344,435.62998962402344,435.62998962402344,435.62998962402344,435.62998962402344,435.62998962402344,435.62998962402344,433.8300018310547,431.38499450683594,431.11999511718756,430.72999572753906,424.87001037597656,423.6750030517578,423.6750030517578,423.6750030517578],\"type\":\"scatter\"},{\"fillcolor\":\"rgba(0,255,0,0.2)\",\"line\":{\"width\":2},\"name\":\"Senkou Span A\",\"x\":[\"2023-03-06T00:00:00\",\"2023-03-07T00:00:00\",\"2023-03-08T00:00:00\",\"2023-03-09T00:00:00\",\"2023-03-10T00:00:00\",\"2023-03-13T00:00:00\",\"2023-03-14T00:00:00\",\"2023-03-15T00:00:00\",\"2023-03-16T00:00:00\",\"2023-03-17T00:00:00\",\"2023-03-20T00:00:00\",\"2023-03-21T00:00:00\",\"2023-03-22T00:00:00\",\"2023-03-23T00:00:00\",\"2023-03-24T00:00:00\",\"2023-03-27T00:00:00\",\"2023-03-28T00:00:00\",\"2023-03-29T00:00:00\",\"2023-03-30T00:00:00\",\"2023-03-31T00:00:00\",\"2023-04-03T00:00:00\",\"2023-04-04T00:00:00\",\"2023-04-05T00:00:00\",\"2023-04-06T00:00:00\",\"2023-04-10T00:00:00\",\"2023-04-11T00:00:00\",\"2023-04-12T00:00:00\",\"2023-04-13T00:00:00\",\"2023-04-14T00:00:00\",\"2023-04-17T00:00:00\",\"2023-04-18T00:00:00\",\"2023-04-19T00:00:00\",\"2023-04-20T00:00:00\",\"2023-04-21T00:00:00\",\"2023-04-24T00:00:00\",\"2023-04-25T00:00:00\",\"2023-04-26T00:00:00\",\"2023-04-27T00:00:00\",\"2023-04-28T00:00:00\",\"2023-05-01T00:00:00\",\"2023-05-02T00:00:00\",\"2023-05-03T00:00:00\",\"2023-05-04T00:00:00\",\"2023-05-05T00:00:00\",\"2023-05-08T00:00:00\",\"2023-05-09T00:00:00\",\"2023-05-10T00:00:00\",\"2023-05-11T00:00:00\",\"2023-05-12T00:00:00\",\"2023-05-15T00:00:00\",\"2023-05-16T00:00:00\",\"2023-05-17T00:00:00\",\"2023-05-18T00:00:00\",\"2023-05-19T00:00:00\",\"2023-05-22T00:00:00\",\"2023-05-23T00:00:00\",\"2023-05-24T00:00:00\",\"2023-05-25T00:00:00\",\"2023-05-26T00:00:00\",\"2023-05-30T00:00:00\",\"2023-05-31T00:00:00\",\"2023-06-01T00:00:00\",\"2023-06-02T00:00:00\",\"2023-06-05T00:00:00\",\"2023-06-06T00:00:00\",\"2023-06-07T00:00:00\",\"2023-06-08T00:00:00\",\"2023-06-09T00:00:00\",\"2023-06-12T00:00:00\",\"2023-06-13T00:00:00\",\"2023-06-14T00:00:00\",\"2023-06-15T00:00:00\",\"2023-06-16T00:00:00\",\"2023-06-20T00:00:00\",\"2023-06-21T00:00:00\",\"2023-06-22T00:00:00\",\"2023-06-23T00:00:00\",\"2023-06-26T00:00:00\",\"2023-06-27T00:00:00\",\"2023-06-28T00:00:00\",\"2023-06-29T00:00:00\",\"2023-06-30T00:00:00\",\"2023-07-03T00:00:00\",\"2023-07-05T00:00:00\",\"2023-07-06T00:00:00\",\"2023-07-07T00:00:00\",\"2023-07-10T00:00:00\",\"2023-07-11T00:00:00\",\"2023-07-12T00:00:00\",\"2023-07-13T00:00:00\",\"2023-07-14T00:00:00\",\"2023-07-17T00:00:00\",\"2023-07-18T00:00:00\",\"2023-07-19T00:00:00\",\"2023-07-20T00:00:00\",\"2023-07-21T00:00:00\",\"2023-07-24T00:00:00\",\"2023-07-25T00:00:00\",\"2023-07-26T00:00:00\",\"2023-07-27T00:00:00\",\"2023-07-28T00:00:00\",\"2023-07-31T00:00:00\",\"2023-08-01T00:00:00\",\"2023-08-02T00:00:00\",\"2023-08-03T00:00:00\",\"2023-08-04T00:00:00\",\"2023-08-07T00:00:00\",\"2023-08-08T00:00:00\",\"2023-08-09T00:00:00\",\"2023-08-10T00:00:00\",\"2023-08-11T00:00:00\",\"2023-08-14T00:00:00\",\"2023-08-15T00:00:00\",\"2023-08-16T00:00:00\",\"2023-08-17T00:00:00\",\"2023-08-18T00:00:00\",\"2023-08-21T00:00:00\",\"2023-08-22T00:00:00\",\"2023-08-23T00:00:00\",\"2023-08-24T00:00:00\",\"2023-08-25T00:00:00\",\"2023-08-28T00:00:00\",\"2023-08-29T00:00:00\",\"2023-08-30T00:00:00\",\"2023-08-31T00:00:00\",\"2023-09-01T00:00:00\",\"2023-09-05T00:00:00\",\"2023-09-06T00:00:00\",\"2023-09-07T00:00:00\",\"2023-09-08T00:00:00\",\"2023-09-11T00:00:00\",\"2023-09-12T00:00:00\",\"2023-09-13T00:00:00\",\"2023-09-14T00:00:00\",\"2023-09-15T00:00:00\",\"2023-09-18T00:00:00\",\"2023-09-19T00:00:00\",\"2023-09-20T00:00:00\",\"2023-09-21T00:00:00\",\"2023-09-22T00:00:00\",\"2023-09-25T00:00:00\",\"2023-09-26T00:00:00\",\"2023-09-27T00:00:00\",\"2023-09-28T00:00:00\",\"2023-09-29T00:00:00\",\"2023-10-02T00:00:00\",\"2023-10-03T00:00:00\",\"2023-10-04T00:00:00\",\"2023-10-05T00:00:00\",\"2023-10-06T00:00:00\",\"2023-10-09T00:00:00\",\"2023-10-10T00:00:00\",\"2023-10-11T00:00:00\",\"2023-10-12T00:00:00\",\"2023-10-13T00:00:00\",\"2023-10-16T00:00:00\",\"2023-10-17T00:00:00\",\"2023-10-18T00:00:00\",\"2023-10-19T00:00:00\",\"2023-10-20T00:00:00\",\"2023-10-23T00:00:00\",\"2023-10-24T00:00:00\",\"2023-10-25T00:00:00\",\"2023-10-26T00:00:00\",\"2023-10-27T00:00:00\",\"2023-10-30T00:00:00\",\"2023-10-31T00:00:00\"],\"y\":[null,null,null,null,null,null,null,null,null,null,null,null,null,null,null,null,null,null,null,null,null,null,null,null,null,null,null,null,null,null,null,null,null,null,null,null,null,null,null,null,null,null,null,null,null,null,null,null,null,null,null,400.7925033569336,401.68750762939453,403.2199935913086,404.1274948120117,404.1274948120117,404.44249725341797,405.2074966430664,405.2799987792969,406.2925033569336,406.8574981689453,406.7149963378906,406.1549987792969,406.1549987792969,406.26499938964844,407.10499572753906,408.17749786376953,408.17749786376953,409.4149932861328,410.18499755859375,410.67999267578125,410.67999267578125,410.67999267578125,410.67999267578125,409.97999572753906,409.90999603271484,409.90999603271484,411.4649963378906,412.9875030517578,413.5124969482422,413.5124969482422,413.5625,413.5625,413.76499938964844,413.7899932861328,414.6949920654297,414.6949920654297,414.86500549316406,417.7749938964844,418.2149963378906,418.2149963378906,418.84749603271484,419.5574951171875,420.98499298095703,423.1550064086914,425.07999420166016,427.73500061035156,430.62249755859375,430.67250061035156,430.67250061035156,430.875,431.6374969482422,431.9625015258789,432.2174987792969,432.2174987792969,432.2174987792969,432.1449966430664,432.41749572753906,433.0499954223633,433.75999450683594,434.0024948120117,434.0024948120117,434.31749725341797,436.73999786376953,439.0800094604492,440.9100036621094,441.3999938964844,441.68499755859375,443.91249084472656,445.1549987792969,445.40999603271484,445.8724975585938,447.23999786376953,448.0299987792969,448.4149932861328,449.7874984741211,450.02999877929693,450.3775024414063,450.3775024414063,450.02750396728516,450.16500091552734,450.17250061035156,450.55249786376953,450.30249786376953,449.9049987792969,449.84000396728516,449.4075012207031,448.4749984741211,448.5199966430664,447.8499984741211,445.6600036621094,444.2900085449219,444.2900085449219,444.2900085449219,443.3925018310547,443.3925018310547,443.02500915527344,442.67000579833984,443.7275085449219,444.28250885009766,445.0699996948242,444.9600067138672,444.9600067138672,444.73250579833984,443.83750915527344,445.0800094604492,445.70250701904297,445.77500915527344,445.77500915527344,445.77500915527344,445.12750244140625,445.0800018310547,444.4250030517578,444.04750061035156,441.80250549316406,441.1824951171875,440.54750061035156],\"type\":\"scatter\"},{\"fill\":\"tonexty\",\"fillcolor\":\"rgba(255,0,0,0.2)\",\"line\":{\"width\":2},\"name\":\"Senkou Span B\",\"x\":[\"2023-03-06T00:00:00\",\"2023-03-07T00:00:00\",\"2023-03-08T00:00:00\",\"2023-03-09T00:00:00\",\"2023-03-10T00:00:00\",\"2023-03-13T00:00:00\",\"2023-03-14T00:00:00\",\"2023-03-15T00:00:00\",\"2023-03-16T00:00:00\",\"2023-03-17T00:00:00\",\"2023-03-20T00:00:00\",\"2023-03-21T00:00:00\",\"2023-03-22T00:00:00\",\"2023-03-23T00:00:00\",\"2023-03-24T00:00:00\",\"2023-03-27T00:00:00\",\"2023-03-28T00:00:00\",\"2023-03-29T00:00:00\",\"2023-03-30T00:00:00\",\"2023-03-31T00:00:00\",\"2023-04-03T00:00:00\",\"2023-04-04T00:00:00\",\"2023-04-05T00:00:00\",\"2023-04-06T00:00:00\",\"2023-04-10T00:00:00\",\"2023-04-11T00:00:00\",\"2023-04-12T00:00:00\",\"2023-04-13T00:00:00\",\"2023-04-14T00:00:00\",\"2023-04-17T00:00:00\",\"2023-04-18T00:00:00\",\"2023-04-19T00:00:00\",\"2023-04-20T00:00:00\",\"2023-04-21T00:00:00\",\"2023-04-24T00:00:00\",\"2023-04-25T00:00:00\",\"2023-04-26T00:00:00\",\"2023-04-27T00:00:00\",\"2023-04-28T00:00:00\",\"2023-05-01T00:00:00\",\"2023-05-02T00:00:00\",\"2023-05-03T00:00:00\",\"2023-05-04T00:00:00\",\"2023-05-05T00:00:00\",\"2023-05-08T00:00:00\",\"2023-05-09T00:00:00\",\"2023-05-10T00:00:00\",\"2023-05-11T00:00:00\",\"2023-05-12T00:00:00\",\"2023-05-15T00:00:00\",\"2023-05-16T00:00:00\",\"2023-05-17T00:00:00\",\"2023-05-18T00:00:00\",\"2023-05-19T00:00:00\",\"2023-05-22T00:00:00\",\"2023-05-23T00:00:00\",\"2023-05-24T00:00:00\",\"2023-05-25T00:00:00\",\"2023-05-26T00:00:00\",\"2023-05-30T00:00:00\",\"2023-05-31T00:00:00\",\"2023-06-01T00:00:00\",\"2023-06-02T00:00:00\",\"2023-06-05T00:00:00\",\"2023-06-06T00:00:00\",\"2023-06-07T00:00:00\",\"2023-06-08T00:00:00\",\"2023-06-09T00:00:00\",\"2023-06-12T00:00:00\",\"2023-06-13T00:00:00\",\"2023-06-14T00:00:00\",\"2023-06-15T00:00:00\",\"2023-06-16T00:00:00\",\"2023-06-20T00:00:00\",\"2023-06-21T00:00:00\",\"2023-06-22T00:00:00\",\"2023-06-23T00:00:00\",\"2023-06-26T00:00:00\",\"2023-06-27T00:00:00\",\"2023-06-28T00:00:00\",\"2023-06-29T00:00:00\",\"2023-06-30T00:00:00\",\"2023-07-03T00:00:00\",\"2023-07-05T00:00:00\",\"2023-07-06T00:00:00\",\"2023-07-07T00:00:00\",\"2023-07-10T00:00:00\",\"2023-07-11T00:00:00\",\"2023-07-12T00:00:00\",\"2023-07-13T00:00:00\",\"2023-07-14T00:00:00\",\"2023-07-17T00:00:00\",\"2023-07-18T00:00:00\",\"2023-07-19T00:00:00\",\"2023-07-20T00:00:00\",\"2023-07-21T00:00:00\",\"2023-07-24T00:00:00\",\"2023-07-25T00:00:00\",\"2023-07-26T00:00:00\",\"2023-07-27T00:00:00\",\"2023-07-28T00:00:00\",\"2023-07-31T00:00:00\",\"2023-08-01T00:00:00\",\"2023-08-02T00:00:00\",\"2023-08-03T00:00:00\",\"2023-08-04T00:00:00\",\"2023-08-07T00:00:00\",\"2023-08-08T00:00:00\",\"2023-08-09T00:00:00\",\"2023-08-10T00:00:00\",\"2023-08-11T00:00:00\",\"2023-08-14T00:00:00\",\"2023-08-15T00:00:00\",\"2023-08-16T00:00:00\",\"2023-08-17T00:00:00\",\"2023-08-18T00:00:00\",\"2023-08-21T00:00:00\",\"2023-08-22T00:00:00\",\"2023-08-23T00:00:00\",\"2023-08-24T00:00:00\",\"2023-08-25T00:00:00\",\"2023-08-28T00:00:00\",\"2023-08-29T00:00:00\",\"2023-08-30T00:00:00\",\"2023-08-31T00:00:00\",\"2023-09-01T00:00:00\",\"2023-09-05T00:00:00\",\"2023-09-06T00:00:00\",\"2023-09-07T00:00:00\",\"2023-09-08T00:00:00\",\"2023-09-11T00:00:00\",\"2023-09-12T00:00:00\",\"2023-09-13T00:00:00\",\"2023-09-14T00:00:00\",\"2023-09-15T00:00:00\",\"2023-09-18T00:00:00\",\"2023-09-19T00:00:00\",\"2023-09-20T00:00:00\",\"2023-09-21T00:00:00\",\"2023-09-22T00:00:00\",\"2023-09-25T00:00:00\",\"2023-09-26T00:00:00\",\"2023-09-27T00:00:00\",\"2023-09-28T00:00:00\",\"2023-09-29T00:00:00\",\"2023-10-02T00:00:00\",\"2023-10-03T00:00:00\",\"2023-10-04T00:00:00\",\"2023-10-05T00:00:00\",\"2023-10-06T00:00:00\",\"2023-10-09T00:00:00\",\"2023-10-10T00:00:00\",\"2023-10-11T00:00:00\",\"2023-10-12T00:00:00\",\"2023-10-13T00:00:00\",\"2023-10-16T00:00:00\",\"2023-10-17T00:00:00\",\"2023-10-18T00:00:00\",\"2023-10-19T00:00:00\",\"2023-10-20T00:00:00\",\"2023-10-23T00:00:00\",\"2023-10-24T00:00:00\",\"2023-10-25T00:00:00\",\"2023-10-26T00:00:00\",\"2023-10-27T00:00:00\",\"2023-10-30T00:00:00\",\"2023-10-31T00:00:00\"],\"y\":[null,null,null,null,null,null,null,null,null,null,null,null,null,null,null,null,null,null,null,null,null,null,null,null,null,null,null,null,null,null,null,null,null,null,null,null,null,null,null,null,null,null,null,null,null,null,null,null,null,null,null,null,null,null,null,null,null,null,null,null,null,null,null,null,null,null,null,null,null,null,null,null,null,null,null,null,null,399.13499450683594,400.1600036621094,400.68499755859375,400.68499755859375,400.68499755859375,400.68499755859375,402.2149963378906,402.239990234375,404.43499755859375,405.5649871826172,406.1600036621094,409.0699920654297,409.50999450683594,409.50999450683594,409.50999450683594,411.6549987792969,412.8399963378906,416.2799987792969,419.5449981689453,421.3999938964844,423.8199920654297,423.8199920654297,423.8199920654297,423.8199920654297,423.8199920654297,423.8199920654297,423.8199920654297,423.8199920654297,423.8199920654297,423.8199920654297,424.0199890136719,424.0199890136719,424.0199890136719,424.0199890136719,424.0199890136719,424.0199890136719,424.0199890136719,425.61000061035156,427.05999755859375,427.54998779296875,427.8349914550781,429.29998779296875,430.0849914550781,432.5350036621094,432.6499938964844,432.6499938964844,432.80499267578125,433.0299987792969,434.25500488281256,434.6600036621094,434.6600036621094,434.6600036621094,434.6600036621094,434.6600036621094,434.6600036621094,434.6600036621094,434.6600036621094,435.9250030517578,437.3450012207031,437.8300018310547,437.8300018310547,438.11500549316406,441.6950073242188,442.63000488281256,442.63000488281256,442.63000488281256,442.63000488281256,444.1549987792969,444.8050079345703,445.3150024414063,445.3150024414063,445.3150024414063,445.3150024414063,445.3150024414063,445.3150024414063,445.3150024414063,445.3150024414063,445.3150024414063,445.6600036621094,446.2250061035156,446.2250061035156,446.2250061035156,446.2250061035156,446.2250061035156,446.2250061035156,446.2250061035156,446.2250061035156,445.3350067138672,444.7149963378906,444.0800018310547],\"type\":\"scatter\"}],                        {\"template\":{\"data\":{\"histogram2dcontour\":[{\"type\":\"histogram2dcontour\",\"colorbar\":{\"outlinewidth\":0,\"ticks\":\"\"},\"colorscale\":[[0.0,\"#0d0887\"],[0.1111111111111111,\"#46039f\"],[0.2222222222222222,\"#7201a8\"],[0.3333333333333333,\"#9c179e\"],[0.4444444444444444,\"#bd3786\"],[0.5555555555555556,\"#d8576b\"],[0.6666666666666666,\"#ed7953\"],[0.7777777777777778,\"#fb9f3a\"],[0.8888888888888888,\"#fdca26\"],[1.0,\"#f0f921\"]]}],\"choropleth\":[{\"type\":\"choropleth\",\"colorbar\":{\"outlinewidth\":0,\"ticks\":\"\"}}],\"histogram2d\":[{\"type\":\"histogram2d\",\"colorbar\":{\"outlinewidth\":0,\"ticks\":\"\"},\"colorscale\":[[0.0,\"#0d0887\"],[0.1111111111111111,\"#46039f\"],[0.2222222222222222,\"#7201a8\"],[0.3333333333333333,\"#9c179e\"],[0.4444444444444444,\"#bd3786\"],[0.5555555555555556,\"#d8576b\"],[0.6666666666666666,\"#ed7953\"],[0.7777777777777778,\"#fb9f3a\"],[0.8888888888888888,\"#fdca26\"],[1.0,\"#f0f921\"]]}],\"heatmap\":[{\"type\":\"heatmap\",\"colorbar\":{\"outlinewidth\":0,\"ticks\":\"\"},\"colorscale\":[[0.0,\"#0d0887\"],[0.1111111111111111,\"#46039f\"],[0.2222222222222222,\"#7201a8\"],[0.3333333333333333,\"#9c179e\"],[0.4444444444444444,\"#bd3786\"],[0.5555555555555556,\"#d8576b\"],[0.6666666666666666,\"#ed7953\"],[0.7777777777777778,\"#fb9f3a\"],[0.8888888888888888,\"#fdca26\"],[1.0,\"#f0f921\"]]}],\"heatmapgl\":[{\"type\":\"heatmapgl\",\"colorbar\":{\"outlinewidth\":0,\"ticks\":\"\"},\"colorscale\":[[0.0,\"#0d0887\"],[0.1111111111111111,\"#46039f\"],[0.2222222222222222,\"#7201a8\"],[0.3333333333333333,\"#9c179e\"],[0.4444444444444444,\"#bd3786\"],[0.5555555555555556,\"#d8576b\"],[0.6666666666666666,\"#ed7953\"],[0.7777777777777778,\"#fb9f3a\"],[0.8888888888888888,\"#fdca26\"],[1.0,\"#f0f921\"]]}],\"contourcarpet\":[{\"type\":\"contourcarpet\",\"colorbar\":{\"outlinewidth\":0,\"ticks\":\"\"}}],\"contour\":[{\"type\":\"contour\",\"colorbar\":{\"outlinewidth\":0,\"ticks\":\"\"},\"colorscale\":[[0.0,\"#0d0887\"],[0.1111111111111111,\"#46039f\"],[0.2222222222222222,\"#7201a8\"],[0.3333333333333333,\"#9c179e\"],[0.4444444444444444,\"#bd3786\"],[0.5555555555555556,\"#d8576b\"],[0.6666666666666666,\"#ed7953\"],[0.7777777777777778,\"#fb9f3a\"],[0.8888888888888888,\"#fdca26\"],[1.0,\"#f0f921\"]]}],\"surface\":[{\"type\":\"surface\",\"colorbar\":{\"outlinewidth\":0,\"ticks\":\"\"},\"colorscale\":[[0.0,\"#0d0887\"],[0.1111111111111111,\"#46039f\"],[0.2222222222222222,\"#7201a8\"],[0.3333333333333333,\"#9c179e\"],[0.4444444444444444,\"#bd3786\"],[0.5555555555555556,\"#d8576b\"],[0.6666666666666666,\"#ed7953\"],[0.7777777777777778,\"#fb9f3a\"],[0.8888888888888888,\"#fdca26\"],[1.0,\"#f0f921\"]]}],\"mesh3d\":[{\"type\":\"mesh3d\",\"colorbar\":{\"outlinewidth\":0,\"ticks\":\"\"}}],\"scatter\":[{\"fillpattern\":{\"fillmode\":\"overlay\",\"size\":10,\"solidity\":0.2},\"type\":\"scatter\"}],\"parcoords\":[{\"type\":\"parcoords\",\"line\":{\"colorbar\":{\"outlinewidth\":0,\"ticks\":\"\"}}}],\"scatterpolargl\":[{\"type\":\"scatterpolargl\",\"marker\":{\"colorbar\":{\"outlinewidth\":0,\"ticks\":\"\"}}}],\"bar\":[{\"error_x\":{\"color\":\"#2a3f5f\"},\"error_y\":{\"color\":\"#2a3f5f\"},\"marker\":{\"line\":{\"color\":\"#E5ECF6\",\"width\":0.5},\"pattern\":{\"fillmode\":\"overlay\",\"size\":10,\"solidity\":0.2}},\"type\":\"bar\"}],\"scattergeo\":[{\"type\":\"scattergeo\",\"marker\":{\"colorbar\":{\"outlinewidth\":0,\"ticks\":\"\"}}}],\"scatterpolar\":[{\"type\":\"scatterpolar\",\"marker\":{\"colorbar\":{\"outlinewidth\":0,\"ticks\":\"\"}}}],\"histogram\":[{\"marker\":{\"pattern\":{\"fillmode\":\"overlay\",\"size\":10,\"solidity\":0.2}},\"type\":\"histogram\"}],\"scattergl\":[{\"type\":\"scattergl\",\"marker\":{\"colorbar\":{\"outlinewidth\":0,\"ticks\":\"\"}}}],\"scatter3d\":[{\"type\":\"scatter3d\",\"line\":{\"colorbar\":{\"outlinewidth\":0,\"ticks\":\"\"}},\"marker\":{\"colorbar\":{\"outlinewidth\":0,\"ticks\":\"\"}}}],\"scattermapbox\":[{\"type\":\"scattermapbox\",\"marker\":{\"colorbar\":{\"outlinewidth\":0,\"ticks\":\"\"}}}],\"scatterternary\":[{\"type\":\"scatterternary\",\"marker\":{\"colorbar\":{\"outlinewidth\":0,\"ticks\":\"\"}}}],\"scattercarpet\":[{\"type\":\"scattercarpet\",\"marker\":{\"colorbar\":{\"outlinewidth\":0,\"ticks\":\"\"}}}],\"carpet\":[{\"aaxis\":{\"endlinecolor\":\"#2a3f5f\",\"gridcolor\":\"white\",\"linecolor\":\"white\",\"minorgridcolor\":\"white\",\"startlinecolor\":\"#2a3f5f\"},\"baxis\":{\"endlinecolor\":\"#2a3f5f\",\"gridcolor\":\"white\",\"linecolor\":\"white\",\"minorgridcolor\":\"white\",\"startlinecolor\":\"#2a3f5f\"},\"type\":\"carpet\"}],\"table\":[{\"cells\":{\"fill\":{\"color\":\"#EBF0F8\"},\"line\":{\"color\":\"white\"}},\"header\":{\"fill\":{\"color\":\"#C8D4E3\"},\"line\":{\"color\":\"white\"}},\"type\":\"table\"}],\"barpolar\":[{\"marker\":{\"line\":{\"color\":\"#E5ECF6\",\"width\":0.5},\"pattern\":{\"fillmode\":\"overlay\",\"size\":10,\"solidity\":0.2}},\"type\":\"barpolar\"}],\"pie\":[{\"automargin\":true,\"type\":\"pie\"}]},\"layout\":{\"autotypenumbers\":\"strict\",\"colorway\":[\"#636efa\",\"#EF553B\",\"#00cc96\",\"#ab63fa\",\"#FFA15A\",\"#19d3f3\",\"#FF6692\",\"#B6E880\",\"#FF97FF\",\"#FECB52\"],\"font\":{\"color\":\"#2a3f5f\"},\"hovermode\":\"closest\",\"hoverlabel\":{\"align\":\"left\"},\"paper_bgcolor\":\"white\",\"plot_bgcolor\":\"#E5ECF6\",\"polar\":{\"bgcolor\":\"#E5ECF6\",\"angularaxis\":{\"gridcolor\":\"white\",\"linecolor\":\"white\",\"ticks\":\"\"},\"radialaxis\":{\"gridcolor\":\"white\",\"linecolor\":\"white\",\"ticks\":\"\"}},\"ternary\":{\"bgcolor\":\"#E5ECF6\",\"aaxis\":{\"gridcolor\":\"white\",\"linecolor\":\"white\",\"ticks\":\"\"},\"baxis\":{\"gridcolor\":\"white\",\"linecolor\":\"white\",\"ticks\":\"\"},\"caxis\":{\"gridcolor\":\"white\",\"linecolor\":\"white\",\"ticks\":\"\"}},\"coloraxis\":{\"colorbar\":{\"outlinewidth\":0,\"ticks\":\"\"}},\"colorscale\":{\"sequential\":[[0.0,\"#0d0887\"],[0.1111111111111111,\"#46039f\"],[0.2222222222222222,\"#7201a8\"],[0.3333333333333333,\"#9c179e\"],[0.4444444444444444,\"#bd3786\"],[0.5555555555555556,\"#d8576b\"],[0.6666666666666666,\"#ed7953\"],[0.7777777777777778,\"#fb9f3a\"],[0.8888888888888888,\"#fdca26\"],[1.0,\"#f0f921\"]],\"sequentialminus\":[[0.0,\"#0d0887\"],[0.1111111111111111,\"#46039f\"],[0.2222222222222222,\"#7201a8\"],[0.3333333333333333,\"#9c179e\"],[0.4444444444444444,\"#bd3786\"],[0.5555555555555556,\"#d8576b\"],[0.6666666666666666,\"#ed7953\"],[0.7777777777777778,\"#fb9f3a\"],[0.8888888888888888,\"#fdca26\"],[1.0,\"#f0f921\"]],\"diverging\":[[0,\"#8e0152\"],[0.1,\"#c51b7d\"],[0.2,\"#de77ae\"],[0.3,\"#f1b6da\"],[0.4,\"#fde0ef\"],[0.5,\"#f7f7f7\"],[0.6,\"#e6f5d0\"],[0.7,\"#b8e186\"],[0.8,\"#7fbc41\"],[0.9,\"#4d9221\"],[1,\"#276419\"]]},\"xaxis\":{\"gridcolor\":\"white\",\"linecolor\":\"white\",\"ticks\":\"\",\"title\":{\"standoff\":15},\"zerolinecolor\":\"white\",\"automargin\":true,\"zerolinewidth\":2},\"yaxis\":{\"gridcolor\":\"white\",\"linecolor\":\"white\",\"ticks\":\"\",\"title\":{\"standoff\":15},\"zerolinecolor\":\"white\",\"automargin\":true,\"zerolinewidth\":2},\"scene\":{\"xaxis\":{\"backgroundcolor\":\"#E5ECF6\",\"gridcolor\":\"white\",\"linecolor\":\"white\",\"showbackground\":true,\"ticks\":\"\",\"zerolinecolor\":\"white\",\"gridwidth\":2},\"yaxis\":{\"backgroundcolor\":\"#E5ECF6\",\"gridcolor\":\"white\",\"linecolor\":\"white\",\"showbackground\":true,\"ticks\":\"\",\"zerolinecolor\":\"white\",\"gridwidth\":2},\"zaxis\":{\"backgroundcolor\":\"#E5ECF6\",\"gridcolor\":\"white\",\"linecolor\":\"white\",\"showbackground\":true,\"ticks\":\"\",\"zerolinecolor\":\"white\",\"gridwidth\":2}},\"shapedefaults\":{\"line\":{\"color\":\"#2a3f5f\"}},\"annotationdefaults\":{\"arrowcolor\":\"#2a3f5f\",\"arrowhead\":0,\"arrowwidth\":1},\"geo\":{\"bgcolor\":\"white\",\"landcolor\":\"#E5ECF6\",\"subunitcolor\":\"white\",\"showland\":true,\"showlakes\":true,\"lakecolor\":\"white\"},\"title\":{\"x\":0.05},\"mapbox\":{\"style\":\"light\"}}},\"xaxis\":{\"rangeslider\":{\"visible\":false},\"rangeselector\":{\"buttons\":[{\"count\":1,\"label\":\"1m\",\"step\":\"month\",\"stepmode\":\"backward\"},{\"count\":6,\"label\":\"6m\",\"step\":\"month\",\"stepmode\":\"backward\"},{\"count\":1,\"label\":\"YTD\",\"step\":\"year\",\"stepmode\":\"todate\"},{\"count\":1,\"label\":\"1y\",\"step\":\"year\",\"stepmode\":\"backward\"},{\"step\":\"all\"}]},\"type\":\"date\",\"rangebreaks\":[{\"bounds\":[\"sat\",\"mon\"]}]},\"title\":{\"text\":\"SPY Ichimoku Cloud Chart\"},\"yaxis\":{\"fixedrange\":false}},                        {\"responsive\": true}                    ).then(function(){\n",
              "                            \n",
              "var gd = document.getElementById('b84762c6-e828-4ff1-a37d-bd477fb75708');\n",
              "var x = new MutationObserver(function (mutations, observer) {{\n",
              "        var display = window.getComputedStyle(gd).display;\n",
              "        if (!display || display === 'none') {{\n",
              "            console.log([gd, 'removed!']);\n",
              "            Plotly.purge(gd);\n",
              "            observer.disconnect();\n",
              "        }}\n",
              "}});\n",
              "\n",
              "// Listen for the removal of the full notebook cells\n",
              "var notebookContainer = gd.closest('#notebook-container');\n",
              "if (notebookContainer) {{\n",
              "    x.observe(notebookContainer, {childList: true});\n",
              "}}\n",
              "\n",
              "// Listen for the clearing of the current output cell\n",
              "var outputEl = gd.closest('.output');\n",
              "if (outputEl) {{\n",
              "    x.observe(outputEl, {childList: true});\n",
              "}}\n",
              "\n",
              "                        })                };                            </script>        </div>\n",
              "</body>\n",
              "</html>"
            ]
          },
          "metadata": {}
        }
      ]
    },
    {
      "cell_type": "markdown",
      "source": [
        "# Encapulate into a class"
      ],
      "metadata": {
        "id": "XYfGMiMdBz80"
      }
    },
    {
      "cell_type": "code",
      "source": [
        "!pip install -U yfinance pandas plotly tapy kaleido"
      ],
      "metadata": {
        "id": "c3-Yh_PoCEJL",
        "colab": {
          "base_uri": "https://localhost:8080/"
        },
        "outputId": "8a66615b-7968-4e8c-e6e0-86c514131469"
      },
      "execution_count": 1,
      "outputs": [
        {
          "output_type": "stream",
          "name": "stdout",
          "text": [
            "Requirement already satisfied: yfinance in /usr/local/lib/python3.10/dist-packages (0.2.31)\n",
            "Requirement already satisfied: pandas in /usr/local/lib/python3.10/dist-packages (2.1.2)\n",
            "Requirement already satisfied: plotly in /usr/local/lib/python3.10/dist-packages (5.18.0)\n",
            "Requirement already satisfied: tapy in /usr/local/lib/python3.10/dist-packages (1.9.1)\n",
            "Requirement already satisfied: kaleido in /usr/local/lib/python3.10/dist-packages (0.2.1)\n",
            "Requirement already satisfied: numpy>=1.16.5 in /usr/local/lib/python3.10/dist-packages (from yfinance) (1.23.5)\n",
            "Requirement already satisfied: requests>=2.31 in /usr/local/lib/python3.10/dist-packages (from yfinance) (2.31.0)\n",
            "Requirement already satisfied: multitasking>=0.0.7 in /usr/local/lib/python3.10/dist-packages (from yfinance) (0.0.11)\n",
            "Requirement already satisfied: lxml>=4.9.1 in /usr/local/lib/python3.10/dist-packages (from yfinance) (4.9.3)\n",
            "Requirement already satisfied: appdirs>=1.4.4 in /usr/local/lib/python3.10/dist-packages (from yfinance) (1.4.4)\n",
            "Requirement already satisfied: pytz>=2022.5 in /usr/local/lib/python3.10/dist-packages (from yfinance) (2023.3.post1)\n",
            "Requirement already satisfied: frozendict>=2.3.4 in /usr/local/lib/python3.10/dist-packages (from yfinance) (2.3.8)\n",
            "Requirement already satisfied: peewee>=3.16.2 in /usr/local/lib/python3.10/dist-packages (from yfinance) (3.17.0)\n",
            "Requirement already satisfied: beautifulsoup4>=4.11.1 in /usr/local/lib/python3.10/dist-packages (from yfinance) (4.11.2)\n",
            "Requirement already satisfied: html5lib>=1.1 in /usr/local/lib/python3.10/dist-packages (from yfinance) (1.1)\n",
            "Requirement already satisfied: python-dateutil>=2.8.2 in /usr/local/lib/python3.10/dist-packages (from pandas) (2.8.2)\n",
            "Requirement already satisfied: tzdata>=2022.1 in /usr/local/lib/python3.10/dist-packages (from pandas) (2023.3)\n",
            "Requirement already satisfied: tenacity>=6.2.0 in /usr/local/lib/python3.10/dist-packages (from plotly) (8.2.3)\n",
            "Requirement already satisfied: packaging in /usr/local/lib/python3.10/dist-packages (from plotly) (23.2)\n",
            "Requirement already satisfied: soupsieve>1.2 in /usr/local/lib/python3.10/dist-packages (from beautifulsoup4>=4.11.1->yfinance) (2.5)\n",
            "Requirement already satisfied: six>=1.9 in /usr/local/lib/python3.10/dist-packages (from html5lib>=1.1->yfinance) (1.16.0)\n",
            "Requirement already satisfied: webencodings in /usr/local/lib/python3.10/dist-packages (from html5lib>=1.1->yfinance) (0.5.1)\n",
            "Requirement already satisfied: charset-normalizer<4,>=2 in /usr/local/lib/python3.10/dist-packages (from requests>=2.31->yfinance) (3.3.1)\n",
            "Requirement already satisfied: idna<4,>=2.5 in /usr/local/lib/python3.10/dist-packages (from requests>=2.31->yfinance) (3.4)\n",
            "Requirement already satisfied: urllib3<3,>=1.21.1 in /usr/local/lib/python3.10/dist-packages (from requests>=2.31->yfinance) (2.0.7)\n",
            "Requirement already satisfied: certifi>=2017.4.17 in /usr/local/lib/python3.10/dist-packages (from requests>=2.31->yfinance) (2023.7.22)\n"
          ]
        }
      ]
    },
    {
      "cell_type": "markdown",
      "source": [
        "## Functions"
      ],
      "metadata": {
        "id": "VAvESA1iZcNX"
      }
    },
    {
      "cell_type": "code",
      "source": [
        "# Create asset list folder\n",
        "from os.path import isdir\n",
        "import os\n",
        "\n",
        "def createDataFolder(folder_name=\"data\"):\n",
        "    # Create data folder\n",
        "    print(f\"{folder_name}\")\n",
        "    try:\n",
        "        if not isdir(folder_name):\n",
        "            os.mkdir(folder_name)\n",
        "        else:\n",
        "            print(\"Data folder already exists\")\n",
        "    except FileExistsError as errFile:\n",
        "        print(\"Error:\", errFile)\n",
        "\n",
        "def createNestedFolder(__rootFolder = \"\", __nestedFolder = \"\", __nestedFolder2 = \"\"):\n",
        "  # Specify the path to the root directory\n",
        "  root_dir = __rootFolder\n",
        "\n",
        "  # Create the root directory\n",
        "  os.makedirs(root_dir, exist_ok=True)\n",
        "\n",
        "  # Create nested directories within the root directory\n",
        "  nested_dir1 = os.path.join(root_dir, __nestedFolder)\n",
        "\n",
        "  os.makedirs(nested_dir1, exist_ok=True)\n",
        "\n",
        "  # You can create further nested directories in the same way\n",
        "  nested_dir2 = os.path.join(nested_dir1, __nestedFolder2)\n",
        "  os.makedirs(nested_dir2, exist_ok=True)\n",
        "\n",
        "if __name__ == \"__main__\":\n",
        "    createDataFolder(\"asset_list\")\n"
      ],
      "metadata": {
        "colab": {
          "base_uri": "https://localhost:8080/"
        },
        "id": "Z4D9pr-SLGpi",
        "outputId": "d4ba90e2-4bea-49f2-be73-fe8484cb74e4"
      },
      "execution_count": 2,
      "outputs": [
        {
          "output_type": "stream",
          "name": "stdout",
          "text": [
            "asset_list\n",
            "Data folder already exists\n"
          ]
        }
      ]
    },
    {
      "cell_type": "markdown",
      "source": [
        "## Classes"
      ],
      "metadata": {
        "id": "TYespBO5aFp5"
      }
    },
    {
      "cell_type": "code",
      "source": [
        "import yfinance as yf\n",
        "import pandas as pd\n",
        "import datetime\n",
        "import plotly.graph_objects as go\n",
        "import plotly.io as pio\n",
        "from tapy import Indicators\n",
        "\n",
        "class IchimokuAnalyzer:\n",
        "    def __init__(self, ticker_symbol, look_back_month=8):\n",
        "        self.ticker_symbol = ticker_symbol\n",
        "        self.look_back_month = look_back_month\n",
        "        self.end_date = datetime.datetime.now() + datetime.timedelta(days=1)  # Adjusted to include today\n",
        "        self.start_date = self.end_date - datetime.timedelta(days=look_back_month * 30)\n",
        "        self.csv_filename = f\"{self.ticker_symbol}_{self.start_date.strftime('%Y-%m-%d')}_{self.end_date.strftime('%Y-%m-%d')}_daily_data.csv\"\n",
        "\n",
        "    def download_data(self, __rootFolder = \"\", __nestedFolder = \"\", __nestedFolder2 = \"\"):\n",
        "        # print(f\"{self.ticker_symbol}\")\n",
        "        createNestedFolder(__rootFolder, __nestedFolder, __nestedFolder2)\n",
        "        data = yf.download(self.ticker_symbol, start=self.start_date, end=self.end_date)\n",
        "        data.to_csv(f\"{__rootFolder}/{__nestedFolder}/{self.csv_filename}\")\n",
        "        return data\n",
        "\n",
        "    def apply_ichimoku_analysis(self, __rootFolder = \"\", __nestedFolder = \"\"):\n",
        "        data = pd.read_csv(f\"{__rootFolder}/{__nestedFolder}/{self.csv_filename}\")\n",
        "        data['Date'] = pd.to_datetime(data['Date'])\n",
        "        data.set_index('Date', inplace=True)\n",
        "\n",
        "        df_ichimoku = Indicators(data)\n",
        "        df_ichimoku.ichimoku_kinko_hyo()\n",
        "        self.data_ichimoku_tapy = df_ichimoku.df\n",
        "\n",
        "    def create_ichimoku_chart(self):\n",
        "        fig = go.Figure()\n",
        "        fig.add_trace(\n",
        "            go.Candlestick(\n",
        "                x=self.data_ichimoku_tapy.index,\n",
        "                open=self.data_ichimoku_tapy[\"Open\"],\n",
        "                high=self.data_ichimoku_tapy[\"High\"],\n",
        "                low=self.data_ichimoku_tapy[\"Low\"],\n",
        "                close=self.data_ichimoku_tapy[\"Close\"],\n",
        "                name=\"Candlesticks\",\n",
        "            )\n",
        "        )\n",
        "        fig.add_trace(\n",
        "            go.Scatter(\n",
        "                x=self.data_ichimoku_tapy.index,\n",
        "                y=self.data_ichimoku_tapy[\"tenkan_sen\"],\n",
        "                mode=\"lines\",\n",
        "                name=\"Tenkan-sen\",\n",
        "                line=dict(color=\"blue\"),\n",
        "            )\n",
        "        )\n",
        "        fig.add_trace(\n",
        "            go.Scatter(\n",
        "                x=self.data_ichimoku_tapy.index,\n",
        "                y=self.data_ichimoku_tapy[\"kijun_sen\"],\n",
        "                mode=\"lines\",\n",
        "                name=\"Kijun-sen\",\n",
        "                line=dict(color=\"red\"),\n",
        "            )\n",
        "        )\n",
        "        fig.add_trace(\n",
        "            go.Scatter(\n",
        "                x=self.data_ichimoku_tapy.index,\n",
        "                y=self.data_ichimoku_tapy[\"senkou_span_a\"],\n",
        "                fillcolor=\"rgba(0,255,0,0.2)\",\n",
        "                line=dict(width=2),\n",
        "                name=\"Senkou Span A\",\n",
        "            )\n",
        "        )\n",
        "        fig.add_trace(\n",
        "            go.Scatter(\n",
        "                x=self.data_ichimoku_tapy.index,\n",
        "                y=self.data_ichimoku_tapy[\"senkou_span_b\"],\n",
        "                fill=\"tonexty\",\n",
        "                fillcolor=\"rgba(255,0,0,0.2)\",\n",
        "                line=dict(width=2),\n",
        "                name=\"Senkou Span B\",\n",
        "            )\n",
        "        )\n",
        "        fig.update_layout(\n",
        "            xaxis=dict(\n",
        "                rangeselector=dict(\n",
        "                    buttons=list(\n",
        "                        [\n",
        "                            dict(count=1, label=\"1m\", step=\"month\", stepmode=\"backward\"),\n",
        "                            dict(count=6, label=\"6m\", step=\"month\", stepmode=\"backward\"),\n",
        "                            dict(count=1, label=\"YTD\", step=\"year\", stepmode=\"todate\"),\n",
        "                            dict(count=1, label=\"1y\", step=\"year\", stepmode=\"backward\"),\n",
        "                            dict(step=\"all\"),\n",
        "                        ]\n",
        "                    )\n",
        "                ),\n",
        "                rangeslider=dict(visible=True),\n",
        "                type=\"date\",\n",
        "            ),\n",
        "            title=f\"{self.ticker_symbol} Ichimoku Cloud Chart\",\n",
        "            xaxis_rangeslider_visible=False\n",
        "        )\n",
        "        fig.update_xaxes(rangebreaks=[dict(bounds=[\"sat\", \"mon\"])])\n",
        "        fig.update_yaxes(fixedrange=False)\n",
        "        self.fig = fig\n",
        "\n",
        "    def show_chart(self):\n",
        "        self.fig.show()\n",
        "\n",
        "    def save_chart_as_html(self, __rootFolder = \"\", __nestedFolder = \"\", __nestedFolder2 = \"\"):\n",
        "        createNestedFolder(__rootFolder, __nestedFolder, __nestedFolder2)\n",
        "        self.fig.write_html(f\"{__rootFolder}/{__nestedFolder}/{self.ticker_symbol}_{self.start_date.strftime('%Y-%m-%d')}_{self.end_date.strftime('%Y-%m-%d')}_ichimoku_chart.html\")\n",
        "\n",
        "    def save_chart_as_image(self, __rootFolder = \"\", __nestedFolder = \"\", __nestedFolder2 = \"\", width=1500, scale=1):\n",
        "        createNestedFolder(__rootFolder, __nestedFolder, __nestedFolder2)\n",
        "        self.fig.write_image(f\"{__rootFolder}/{__nestedFolder}/{self.ticker_symbol}_{self.start_date.strftime('%Y-%m-%d')}_{self.end_date.strftime('%Y-%m-%d')}_ichimoku_chart.jpg\", width=width, scale=scale)\n",
        "\n",
        "# Usage example:\n",
        "# if __name__ == \"__main__\":\n",
        "#   analyzer = IchimokuAnalyzer(\"SPY\", look_back_month=8)\n",
        "#   analyzer.download_data(\"data\", \"DowJones30\")\n",
        "#   analyzer.apply_ichimoku_analysis(\"data\", \"DowJones30\")\n",
        "#   analyzer.create_ichimoku_chart()\n",
        "#   analyzer.show_chart()\n",
        "#   analyzer.save_chart_as_html(\"html\", \"DowJones30\")\n",
        "#   analyzer.save_chart_as_image(\"jpg\", \"DowJones30\")\n"
      ],
      "metadata": {
        "id": "uf24Xhu3QT40"
      },
      "execution_count": 3,
      "outputs": []
    },
    {
      "cell_type": "markdown",
      "source": [
        "## Get Dow Jones 30 stock tickers"
      ],
      "metadata": {
        "id": "RAiUoE11H51z"
      }
    },
    {
      "cell_type": "code",
      "source": [
        "# GetSymbolDowJones30.py\n",
        "import pandas as pd\n",
        "\n",
        "class Model(object):\n",
        "    def __init__(\n",
        "        self,\n",
        "        __url,\n",
        "        __fileNameCSV,\n",
        "        __readHtmlMatch=\"\",\n",
        "    ) -> None:\n",
        "        self.url = __url\n",
        "        self.fileNameCSV = __fileNameCSV\n",
        "        self.readHtmlMatch = __readHtmlMatch\n",
        "        self.df_list = None\n",
        "        self.df = None\n",
        "\n",
        "    @property\n",
        "    def df_list(self):\n",
        "        return self.__df_list\n",
        "\n",
        "    @df_list.setter\n",
        "    def df_list(self, __df_list):\n",
        "        self.__df_list = __df_list\n",
        "\n",
        "    def readHtml(self):\n",
        "        self.df_list = pd.read_html(\n",
        "            self.url,\n",
        "            match=self.readHtmlMatch,\n",
        "        )[0]\n",
        "\n",
        "        # return type is list[DataFrame]\n",
        "        print(f\"Total tables: {len(self.df_list)}\")\n",
        "        return self.df_list\n",
        "\n",
        "    def cleanData(self):\n",
        "        __df_list = self.df_list\n",
        "        self.df = __df_list\n",
        "        self.df.rename(\n",
        "            columns={\n",
        "                \"Company\": \"name\",\n",
        "                \"Symbol\": \"symbol\",\n",
        "            },\n",
        "            inplace=True,\n",
        "        )\n",
        "        self.df[\"symbol\"] = self.df[\"symbol\"].str.replace(\n",
        "            \".\", \"-\", regex=False\n",
        "        )\n",
        "\n",
        "    def saveData(self):\n",
        "        __columns = [\"symbol\", \"name\"]\n",
        "        # print(type(self.df))\n",
        "        # print(self.df)\n",
        "        # print(self.df[__columns])\n",
        "        self.df.to_csv(\n",
        "            self.fileNameCSV,\n",
        "            columns=__columns,\n",
        "            index=False,\n",
        "        )\n",
        "        return self.df[__columns]\n",
        "\n",
        "\n",
        "class View(object):\n",
        "\n",
        "    pass\n",
        "\n",
        "\n",
        "class Control(object):\n",
        "    def __init__(self, model, view) -> None:\n",
        "        self.model = model\n",
        "        self.view = view\n",
        "\n",
        "    def main(self):\n",
        "        self.readHtml()\n",
        "        # print(self.model.df_list)\n",
        "        self.cleanData()\n",
        "        self.saveData()\n",
        "\n",
        "    def readHtml(self, __match=\"\"):\n",
        "        self.model.readHtml()\n",
        "\n",
        "    def cleanData(self):\n",
        "        self.model.cleanData()\n",
        "\n",
        "    def saveData(self):\n",
        "        self.model.saveData()\n",
        "\n",
        "\n",
        "def main(__fetch_symbols_latest=True):\n",
        "    if __fetch_symbols_latest is False:\n",
        "        return\n",
        "    _model = Model(\n",
        "        \"https://en.wikipedia.org/wiki/Dow_Jones_Industrial_Average#Components\",\n",
        "        \"asset_list/DowJones30.csv\",\n",
        "        \"DJIA component companies\",\n",
        "    )\n",
        "\n",
        "    _control = Control(_model, View())\n",
        "    _control.main()\n",
        "\n",
        "\n",
        "if __name__ == \"__main__\":\n",
        "    main()\n",
        "\n"
      ],
      "metadata": {
        "colab": {
          "base_uri": "https://localhost:8080/"
        },
        "id": "yFMPutM8Hz42",
        "outputId": "d6785fd6-e6b8-4b82-fdd5-615ed84e2c27"
      },
      "execution_count": 4,
      "outputs": [
        {
          "output_type": "stream",
          "name": "stdout",
          "text": [
            "Total tables: 30\n"
          ]
        }
      ]
    },
    {
      "cell_type": "code",
      "source": [
        "import pandas as pd\n",
        "\n",
        "# Load the CSV file into a pandas DataFrame\n",
        "file_path = \"asset_list/DowJones30.csv\"\n",
        "df = pd.read_csv(file_path)\n",
        "\n",
        "def run_ichimokuAnalyser(symbol):\n",
        "    # print(f\"run_ichimokuAnalyser_{symbol}\")\n",
        "    analyzer = IchimokuAnalyzer(symbol, look_back_month=8)\n",
        "    analyzer.download_data(\"data\", \"DowJones30\")\n",
        "    analyzer.apply_ichimoku_analysis(\"data\", \"DowJones30\")\n",
        "    analyzer.create_ichimoku_chart()\n",
        "    analyzer.show_chart()\n",
        "    analyzer.save_chart_as_html(\"html\", \"DowJones30\")\n",
        "    analyzer.save_chart_as_image(\"jpg\", \"DowJones30\")\n",
        "# Access and iterate through the first column (assuming it's named \"Column1\") using enumerate\n",
        "# for symbol, name in enumerate(df.items()):\n",
        "\n",
        "df['symbol'].apply(run_ichimokuAnalyser)\n",
        "\n"
      ],
      "metadata": {
        "id": "grGjH_ynPdLq"
      },
      "execution_count": null,
      "outputs": []
    },
    {
      "cell_type": "markdown",
      "source": [
        "# Put all charts into a pdf"
      ],
      "metadata": {
        "id": "b8PzHrXEtf4W"
      }
    },
    {
      "cell_type": "code",
      "source": [
        "!pip install -U img2pdf\n"
      ],
      "metadata": {
        "id": "145v6jzutgc_",
        "colab": {
          "base_uri": "https://localhost:8080/"
        },
        "outputId": "7daf4150-c23a-40a6-93cd-fcec729b0d4c"
      },
      "execution_count": 51,
      "outputs": [
        {
          "output_type": "stream",
          "name": "stdout",
          "text": [
            "Requirement already satisfied: img2pdf in /usr/local/lib/python3.10/dist-packages (0.5.0)\n",
            "Requirement already satisfied: Pillow in /usr/local/lib/python3.10/dist-packages (from img2pdf) (10.1.0)\n",
            "Requirement already satisfied: pikepdf in /usr/local/lib/python3.10/dist-packages (from img2pdf) (8.6.0)\n",
            "Requirement already satisfied: deprecation in /usr/local/lib/python3.10/dist-packages (from pikepdf->img2pdf) (2.1.0)\n",
            "Requirement already satisfied: lxml>=4.8 in /usr/local/lib/python3.10/dist-packages (from pikepdf->img2pdf) (4.9.3)\n",
            "Requirement already satisfied: packaging in /usr/local/lib/python3.10/dist-packages (from pikepdf->img2pdf) (23.2)\n"
          ]
        }
      ]
    },
    {
      "cell_type": "code",
      "source": [
        "import os\n",
        "import img2pdf\n",
        "\n",
        "class ImageToPdfConverter:\n",
        "  def __init__(self, directory_path='.', outputPath='output.pdf'):\n",
        "      self.directory_path = directory_path\n",
        "      self.outputPath = outputPath\n",
        "\n",
        "  def convert(self, pdf_folder =\"\", pdf_nested_folder =\"\"):\n",
        "    # List all files in the directory and filter only JPEG images (ending with \".jpg\")\n",
        "    image_files = [f\"{self.directory_path}/{i}\" for i in os.listdir(self.directory_path) if i.endswith(\".jpg\")]\n",
        "\n",
        "    # Convert the list of JPEG images to a single PDF file\n",
        "    pdf_data = img2pdf.convert(image_files)\n",
        "\n",
        "    createNestedFolder(pdf_folder, pdf_nested_folder)\n",
        "    # Write the PDF content to a file (make sure you have write permissions for the specified file)\n",
        "    with open(f\"{pdf_folder}/{pdf_nested_folder}/{self.outputPath}\", \"wb\") as file:\n",
        "      file.write(pdf_data)\n",
        "\n",
        "if __name__ == \"__main__\":\n",
        "  __imgToPdf = ImageToPdfConverter('jpg/DowJones30/', 'DowJones30StocksIchimoku.pdf')\n",
        "  __imgToPdf.convert(\"pdf\", \"DowJones30\")\n"
      ],
      "metadata": {
        "id": "iuXL6kLktkrk"
      },
      "execution_count": 58,
      "outputs": []
    }
  ]
}
