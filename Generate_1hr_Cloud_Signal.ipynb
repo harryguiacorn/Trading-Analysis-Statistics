{
  "nbformat": 4,
  "nbformat_minor": 0,
  "metadata": {
    "colab": {
      "provenance": [],
      "authorship_tag": "ABX9TyMyoclbY0HPDWSuVdQDbFOA",
      "include_colab_link": true
    },
    "kernelspec": {
      "name": "python3",
      "display_name": "Python 3"
    },
    "language_info": {
      "name": "python"
    }
  },
  "cells": [
    {
      "cell_type": "markdown",
      "metadata": {
        "id": "view-in-github",
        "colab_type": "text"
      },
      "source": [
        "<a href=\"https://colab.research.google.com/github/harryguiacorn/Trading-Analysis-Statistics/blob/main/Generate_1hr_Cloud_Signal.ipynb\" target=\"_parent\"><img src=\"https://colab.research.google.com/assets/colab-badge.svg\" alt=\"Open In Colab\"/></a>"
      ]
    },
    {
      "cell_type": "code",
      "execution_count": 1,
      "metadata": {
        "id": "r8Fd--yUekdC",
        "colab": {
          "base_uri": "https://localhost:8080/"
        },
        "outputId": "5fb33f5a-35c0-4348-e658-12eb6ca640f9"
      },
      "outputs": [
        {
          "output_type": "stream",
          "name": "stdout",
          "text": [
            "Requirement already satisfied: yfinance in /usr/local/lib/python3.10/dist-packages (0.2.31)\n",
            "Collecting ta\n",
            "  Downloading ta-0.11.0.tar.gz (25 kB)\n",
            "  Preparing metadata (setup.py) ... \u001b[?25l\u001b[?25hdone\n",
            "Requirement already satisfied: pandas in /usr/local/lib/python3.10/dist-packages (1.5.3)\n",
            "Requirement already satisfied: numpy>=1.16.5 in /usr/local/lib/python3.10/dist-packages (from yfinance) (1.23.5)\n",
            "Requirement already satisfied: requests>=2.31 in /usr/local/lib/python3.10/dist-packages (from yfinance) (2.31.0)\n",
            "Requirement already satisfied: multitasking>=0.0.7 in /usr/local/lib/python3.10/dist-packages (from yfinance) (0.0.11)\n",
            "Requirement already satisfied: lxml>=4.9.1 in /usr/local/lib/python3.10/dist-packages (from yfinance) (4.9.3)\n",
            "Requirement already satisfied: appdirs>=1.4.4 in /usr/local/lib/python3.10/dist-packages (from yfinance) (1.4.4)\n",
            "Requirement already satisfied: pytz>=2022.5 in /usr/local/lib/python3.10/dist-packages (from yfinance) (2023.3.post1)\n",
            "Requirement already satisfied: frozendict>=2.3.4 in /usr/local/lib/python3.10/dist-packages (from yfinance) (2.3.8)\n",
            "Requirement already satisfied: peewee>=3.16.2 in /usr/local/lib/python3.10/dist-packages (from yfinance) (3.17.0)\n",
            "Requirement already satisfied: beautifulsoup4>=4.11.1 in /usr/local/lib/python3.10/dist-packages (from yfinance) (4.11.2)\n",
            "Requirement already satisfied: html5lib>=1.1 in /usr/local/lib/python3.10/dist-packages (from yfinance) (1.1)\n",
            "Requirement already satisfied: python-dateutil>=2.8.1 in /usr/local/lib/python3.10/dist-packages (from pandas) (2.8.2)\n",
            "Requirement already satisfied: soupsieve>1.2 in /usr/local/lib/python3.10/dist-packages (from beautifulsoup4>=4.11.1->yfinance) (2.5)\n",
            "Requirement already satisfied: six>=1.9 in /usr/local/lib/python3.10/dist-packages (from html5lib>=1.1->yfinance) (1.16.0)\n",
            "Requirement already satisfied: webencodings in /usr/local/lib/python3.10/dist-packages (from html5lib>=1.1->yfinance) (0.5.1)\n",
            "Requirement already satisfied: charset-normalizer<4,>=2 in /usr/local/lib/python3.10/dist-packages (from requests>=2.31->yfinance) (3.3.2)\n",
            "Requirement already satisfied: idna<4,>=2.5 in /usr/local/lib/python3.10/dist-packages (from requests>=2.31->yfinance) (3.4)\n",
            "Requirement already satisfied: urllib3<3,>=1.21.1 in /usr/local/lib/python3.10/dist-packages (from requests>=2.31->yfinance) (2.0.7)\n",
            "Requirement already satisfied: certifi>=2017.4.17 in /usr/local/lib/python3.10/dist-packages (from requests>=2.31->yfinance) (2023.7.22)\n",
            "Building wheels for collected packages: ta\n",
            "  Building wheel for ta (setup.py) ... \u001b[?25l\u001b[?25hdone\n",
            "  Created wheel for ta: filename=ta-0.11.0-py3-none-any.whl size=29412 sha256=5050ea00fe63ea9bc7dafc2c9cbd8a45ffc69f07e0e1aa0c396f4fb369b2c248\n",
            "  Stored in directory: /root/.cache/pip/wheels/5f/67/4f/8a9f252836e053e532c6587a3230bc72a4deb16b03a829610b\n",
            "Successfully built ta\n",
            "Installing collected packages: ta\n",
            "Successfully installed ta-0.11.0\n"
          ]
        }
      ],
      "source": [
        "!pip install yfinance ta pandas"
      ]
    },
    {
      "cell_type": "markdown",
      "source": [
        "# Download 1h data and generator cloud signals"
      ],
      "metadata": {
        "id": "2Vgo9pu4I4hn"
      }
    },
    {
      "cell_type": "code",
      "source": [
        "import os\n",
        "import yfinance as yf\n",
        "import pandas as pd\n",
        "import numpy as np\n",
        "from ta.trend import IchimokuIndicator\n",
        "\n",
        "class IchimokuAnalyzer:\n",
        "    def __init__(self, symbol, period, interval, output_folder):\n",
        "        self.symbol = symbol\n",
        "        self.period = period\n",
        "        self.interval = interval\n",
        "        self.output_folder = output_folder\n",
        "\n",
        "    def create_folder(self, folder_path):\n",
        "        if not os.path.exists(folder_path):\n",
        "            os.makedirs(folder_path)\n",
        "\n",
        "    def download_and_analyze_data(self):\n",
        "        # Create folders for CSV and image files\n",
        "        folder_path_csv = os.path.join(self.output_folder, 'csv', self.symbol)\n",
        "        folder_path_img = os.path.join(self.output_folder, 'img', self.symbol)\n",
        "\n",
        "        self.create_folder(folder_path_csv)\n",
        "        self.create_folder(folder_path_img)\n",
        "\n",
        "        # Fetch hourly data for the specified period\n",
        "        data = yf.download(self.symbol, period=self.period, interval=self.interval)\n",
        "\n",
        "        # Create an IchimokuIndicator instance\n",
        "        ichimoku = IchimokuIndicator(data['High'], data['Low'])\n",
        "\n",
        "        # Calculate Ichimoku values\n",
        "        data['Ichimoku_A'] = ichimoku.ichimoku_a().shift(26)\n",
        "        data['Ichimoku_B'] = ichimoku.ichimoku_b().shift(26)\n",
        "\n",
        "        # Create the 'Cloud' column based on Ichimoku values\n",
        "        data['Cloud'] = np.where(\n",
        "            (data['Close'] > data['Ichimoku_A']) & (data['Close'] > data['Ichimoku_B']), 1,\n",
        "            np.where((data['Close'] < data['Ichimoku_A']) & (data['Close'] < data['Ichimoku_B']), -1, 0)\n",
        "        )\n",
        "\n",
        "        # Export data to a CSV file\n",
        "        csv_filename = os.path.join(folder_path_csv, f'{self.symbol}_hourly_cloud_data_{self.period}.csv')\n",
        "        data.to_csv(csv_filename)\n",
        "        print(f\"Hourly data for {self.symbol} over the last {self.period} with Ichimoku cloud values exported to {csv_filename}\")\n",
        "\n",
        "if __name__ == \"__main__\":\n",
        "    symbol = 'ES=F'\n",
        "    period = '6mo'\n",
        "    interval = '1h'\n",
        "    output_folder = 'output-cloud-signal'\n",
        "\n",
        "    analyzer = IchimokuAnalyzer(symbol, period, interval, output_folder)\n",
        "    analyzer.download_and_analyze_data()\n"
      ],
      "metadata": {
        "id": "FZlQZu9rSxrW",
        "colab": {
          "base_uri": "https://localhost:8080/"
        },
        "outputId": "f5f086cc-685e-4441-cc51-7ca615b005c1"
      },
      "execution_count": 3,
      "outputs": [
        {
          "output_type": "stream",
          "name": "stdout",
          "text": [
            "\r[*********************100%%**********************]  1 of 1 completed\n",
            "Hourly data for ES=F over the last 6mo with Ichimoku cloud values exported to output/csv/ES=F/ES=F_hourly_cloud_data_6mo.csv\n"
          ]
        }
      ]
    }
  ]
}